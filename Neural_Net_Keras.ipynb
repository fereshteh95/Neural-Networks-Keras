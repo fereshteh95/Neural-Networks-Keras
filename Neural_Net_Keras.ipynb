{
 "cells": [
  {
   "cell_type": "code",
   "execution_count": 10,
   "metadata": {},
   "outputs": [],
   "source": [
    "import pandas as pd\n",
    "import numpy as np\n",
    "import keras\n",
    "from sklearn.preprocessing import MinMaxScaler"
   ]
  },
  {
   "cell_type": "markdown",
   "metadata": {},
   "source": [
    "# Read Data"
   ]
  },
  {
   "cell_type": "code",
   "execution_count": 11,
   "metadata": {},
   "outputs": [
    {
     "data": {
      "text/html": [
       "<div>\n",
       "<style scoped>\n",
       "    .dataframe tbody tr th:only-of-type {\n",
       "        vertical-align: middle;\n",
       "    }\n",
       "\n",
       "    .dataframe tbody tr th {\n",
       "        vertical-align: top;\n",
       "    }\n",
       "\n",
       "    .dataframe thead th {\n",
       "        text-align: right;\n",
       "    }\n",
       "</style>\n",
       "<table border=\"1\" class=\"dataframe\">\n",
       "  <thead>\n",
       "    <tr style=\"text-align: right;\">\n",
       "      <th></th>\n",
       "      <th>critic_rating</th>\n",
       "      <th>is_action</th>\n",
       "      <th>is_exclusive_to_us</th>\n",
       "      <th>is_portable</th>\n",
       "      <th>is_role_playing</th>\n",
       "      <th>is_sequel</th>\n",
       "      <th>is_sports</th>\n",
       "      <th>suitable_for_kids</th>\n",
       "      <th>total_earnings</th>\n",
       "      <th>unit_price</th>\n",
       "    </tr>\n",
       "  </thead>\n",
       "  <tbody>\n",
       "    <tr>\n",
       "      <th>0</th>\n",
       "      <td>3.5</td>\n",
       "      <td>1</td>\n",
       "      <td>0</td>\n",
       "      <td>1</td>\n",
       "      <td>0</td>\n",
       "      <td>1</td>\n",
       "      <td>0</td>\n",
       "      <td>0</td>\n",
       "      <td>132717</td>\n",
       "      <td>59.99</td>\n",
       "    </tr>\n",
       "    <tr>\n",
       "      <th>1</th>\n",
       "      <td>4.5</td>\n",
       "      <td>0</td>\n",
       "      <td>0</td>\n",
       "      <td>0</td>\n",
       "      <td>0</td>\n",
       "      <td>1</td>\n",
       "      <td>1</td>\n",
       "      <td>0</td>\n",
       "      <td>83407</td>\n",
       "      <td>49.99</td>\n",
       "    </tr>\n",
       "    <tr>\n",
       "      <th>2</th>\n",
       "      <td>3.0</td>\n",
       "      <td>0</td>\n",
       "      <td>0</td>\n",
       "      <td>0</td>\n",
       "      <td>0</td>\n",
       "      <td>1</td>\n",
       "      <td>1</td>\n",
       "      <td>0</td>\n",
       "      <td>62423</td>\n",
       "      <td>49.99</td>\n",
       "    </tr>\n",
       "    <tr>\n",
       "      <th>3</th>\n",
       "      <td>4.5</td>\n",
       "      <td>1</td>\n",
       "      <td>0</td>\n",
       "      <td>0</td>\n",
       "      <td>0</td>\n",
       "      <td>0</td>\n",
       "      <td>0</td>\n",
       "      <td>1</td>\n",
       "      <td>69889</td>\n",
       "      <td>39.99</td>\n",
       "    </tr>\n",
       "    <tr>\n",
       "      <th>4</th>\n",
       "      <td>4.0</td>\n",
       "      <td>1</td>\n",
       "      <td>0</td>\n",
       "      <td>1</td>\n",
       "      <td>0</td>\n",
       "      <td>1</td>\n",
       "      <td>0</td>\n",
       "      <td>1</td>\n",
       "      <td>161382</td>\n",
       "      <td>59.99</td>\n",
       "    </tr>\n",
       "  </tbody>\n",
       "</table>\n",
       "</div>"
      ],
      "text/plain": [
       "   critic_rating  is_action  is_exclusive_to_us  is_portable  is_role_playing  \\\n",
       "0            3.5          1                   0            1                0   \n",
       "1            4.5          0                   0            0                0   \n",
       "2            3.0          0                   0            0                0   \n",
       "3            4.5          1                   0            0                0   \n",
       "4            4.0          1                   0            1                0   \n",
       "\n",
       "   is_sequel  is_sports  suitable_for_kids  total_earnings  unit_price  \n",
       "0          1          0                  0          132717       59.99  \n",
       "1          1          1                  0           83407       49.99  \n",
       "2          1          1                  0           62423       49.99  \n",
       "3          0          0                  1           69889       39.99  \n",
       "4          1          0                  1          161382       59.99  "
      ]
     },
     "execution_count": 11,
     "metadata": {},
     "output_type": "execute_result"
    }
   ],
   "source": [
    "train_data = pd.read_csv('sales_data_training.csv')\n",
    "test_data = pd.read_csv('sales_data_test.csv')\n",
    "train_data.head()"
   ]
  },
  {
   "cell_type": "markdown",
   "metadata": {},
   "source": [
    "# Scale Data"
   ]
  },
  {
   "cell_type": "code",
   "execution_count": 15,
   "metadata": {},
   "outputs": [
    {
     "data": {
      "text/html": [
       "<div>\n",
       "<style scoped>\n",
       "    .dataframe tbody tr th:only-of-type {\n",
       "        vertical-align: middle;\n",
       "    }\n",
       "\n",
       "    .dataframe tbody tr th {\n",
       "        vertical-align: top;\n",
       "    }\n",
       "\n",
       "    .dataframe thead th {\n",
       "        text-align: right;\n",
       "    }\n",
       "</style>\n",
       "<table border=\"1\" class=\"dataframe\">\n",
       "  <thead>\n",
       "    <tr style=\"text-align: right;\">\n",
       "      <th></th>\n",
       "      <th>critic_rating</th>\n",
       "      <th>is_action</th>\n",
       "      <th>is_exclusive_to_us</th>\n",
       "      <th>is_portable</th>\n",
       "      <th>is_role_playing</th>\n",
       "      <th>is_sequel</th>\n",
       "      <th>is_sports</th>\n",
       "      <th>suitable_for_kids</th>\n",
       "      <th>total_earnings</th>\n",
       "      <th>unit_price</th>\n",
       "    </tr>\n",
       "  </thead>\n",
       "  <tbody>\n",
       "    <tr>\n",
       "      <th>0</th>\n",
       "      <td>0.500000</td>\n",
       "      <td>1.0</td>\n",
       "      <td>0.0</td>\n",
       "      <td>1.0</td>\n",
       "      <td>0.0</td>\n",
       "      <td>1.0</td>\n",
       "      <td>0.0</td>\n",
       "      <td>0.0</td>\n",
       "      <td>0.374714</td>\n",
       "      <td>1.0</td>\n",
       "    </tr>\n",
       "    <tr>\n",
       "      <th>1</th>\n",
       "      <td>0.833333</td>\n",
       "      <td>0.0</td>\n",
       "      <td>0.0</td>\n",
       "      <td>0.0</td>\n",
       "      <td>0.0</td>\n",
       "      <td>1.0</td>\n",
       "      <td>1.0</td>\n",
       "      <td>0.0</td>\n",
       "      <td>0.192425</td>\n",
       "      <td>0.5</td>\n",
       "    </tr>\n",
       "    <tr>\n",
       "      <th>2</th>\n",
       "      <td>0.333333</td>\n",
       "      <td>0.0</td>\n",
       "      <td>0.0</td>\n",
       "      <td>0.0</td>\n",
       "      <td>0.0</td>\n",
       "      <td>1.0</td>\n",
       "      <td>1.0</td>\n",
       "      <td>0.0</td>\n",
       "      <td>0.114852</td>\n",
       "      <td>0.5</td>\n",
       "    </tr>\n",
       "    <tr>\n",
       "      <th>3</th>\n",
       "      <td>0.833333</td>\n",
       "      <td>1.0</td>\n",
       "      <td>0.0</td>\n",
       "      <td>0.0</td>\n",
       "      <td>0.0</td>\n",
       "      <td>0.0</td>\n",
       "      <td>0.0</td>\n",
       "      <td>1.0</td>\n",
       "      <td>0.142452</td>\n",
       "      <td>0.0</td>\n",
       "    </tr>\n",
       "    <tr>\n",
       "      <th>4</th>\n",
       "      <td>0.666667</td>\n",
       "      <td>1.0</td>\n",
       "      <td>0.0</td>\n",
       "      <td>1.0</td>\n",
       "      <td>0.0</td>\n",
       "      <td>1.0</td>\n",
       "      <td>0.0</td>\n",
       "      <td>1.0</td>\n",
       "      <td>0.480682</td>\n",
       "      <td>1.0</td>\n",
       "    </tr>\n",
       "  </tbody>\n",
       "</table>\n",
       "</div>"
      ],
      "text/plain": [
       "   critic_rating  is_action  is_exclusive_to_us  is_portable  is_role_playing  \\\n",
       "0       0.500000        1.0                 0.0          1.0              0.0   \n",
       "1       0.833333        0.0                 0.0          0.0              0.0   \n",
       "2       0.333333        0.0                 0.0          0.0              0.0   \n",
       "3       0.833333        1.0                 0.0          0.0              0.0   \n",
       "4       0.666667        1.0                 0.0          1.0              0.0   \n",
       "\n",
       "   is_sequel  is_sports  suitable_for_kids  total_earnings  unit_price  \n",
       "0        1.0        0.0                0.0        0.374714         1.0  \n",
       "1        1.0        1.0                0.0        0.192425         0.5  \n",
       "2        1.0        1.0                0.0        0.114852         0.5  \n",
       "3        0.0        0.0                1.0        0.142452         0.0  \n",
       "4        1.0        0.0                1.0        0.480682         1.0  "
      ]
     },
     "execution_count": 15,
     "metadata": {},
     "output_type": "execute_result"
    }
   ],
   "source": [
    "scaler = MinMaxScaler(feature_range=(0,1))\n",
    "scaler.fit(train_data)\n",
    "scaled_training = scaler.transform(train_data)\n",
    "scaled_test = scaler.transform(test_data)\n",
    "columns = train_data.columns\n",
    "scaled_train_data = pd.DataFrame(scaled_training, columns=columns)\n",
    "scaled_test_data = pd.DataFrame(scaled_test, columns=columns)\n",
    "scaled_train_data.head()"
   ]
  },
  {
   "cell_type": "code",
   "execution_count": 16,
   "metadata": {},
   "outputs": [],
   "source": [
    "X_train = scaled_train_data.drop(['total_earnings'], axis=1).values\n",
    "Y_train = scaled_train_data['total_earnings'].values\n",
    "\n",
    "X_test = scaled_test_data.drop(['total_earnings'], axis=1).values\n",
    "Y_test = scaled_test_data['total_earnings'].values"
   ]
  },
  {
   "cell_type": "markdown",
   "metadata": {},
   "source": [
    "# Build the Model"
   ]
  },
  {
   "cell_type": "code",
   "execution_count": 18,
   "metadata": {},
   "outputs": [],
   "source": [
    "from keras.models import Sequential\n",
    "from keras.layers import *"
   ]
  },
  {
   "cell_type": "code",
   "execution_count": 19,
   "metadata": {},
   "outputs": [
    {
     "name": "stdout",
     "output_type": "stream",
     "text": [
      "WARNING:tensorflow:From C:\\Program Files\\Anaconda3\\lib\\site-packages\\keras\\backend\\tensorflow_backend.py:74: The name tf.get_default_graph is deprecated. Please use tf.compat.v1.get_default_graph instead.\n",
      "\n"
     ]
    }
   ],
   "source": [
    "model = Sequential()"
   ]
  },
  {
   "cell_type": "code",
   "execution_count": 20,
   "metadata": {},
   "outputs": [
    {
     "name": "stdout",
     "output_type": "stream",
     "text": [
      "WARNING:tensorflow:From C:\\Program Files\\Anaconda3\\lib\\site-packages\\keras\\backend\\tensorflow_backend.py:517: The name tf.placeholder is deprecated. Please use tf.compat.v1.placeholder instead.\n",
      "\n",
      "WARNING:tensorflow:From C:\\Program Files\\Anaconda3\\lib\\site-packages\\keras\\backend\\tensorflow_backend.py:4138: The name tf.random_uniform is deprecated. Please use tf.random.uniform instead.\n",
      "\n",
      "WARNING:tensorflow:From C:\\Program Files\\Anaconda3\\lib\\site-packages\\keras\\optimizers.py:790: The name tf.train.Optimizer is deprecated. Please use tf.compat.v1.train.Optimizer instead.\n",
      "\n"
     ]
    }
   ],
   "source": [
    "model.add(Dense(50, input_dim=9, activation='relu'))\n",
    "model.add(Dense(100, activation='relu'))\n",
    "model.add(Dense(50, activation='relu'))\n",
    "model.add(Dense(1, activation='linear'))\n",
    "\n",
    "model.compile(loss='mse', optimizer='adam')"
   ]
  },
  {
   "cell_type": "markdown",
   "metadata": {},
   "source": [
    "# Train and Evaluate"
   ]
  },
  {
   "cell_type": "code",
   "execution_count": 21,
   "metadata": {},
   "outputs": [
    {
     "name": "stdout",
     "output_type": "stream",
     "text": [
      "WARNING:tensorflow:From C:\\Program Files\\Anaconda3\\lib\\site-packages\\keras\\backend\\tensorflow_backend.py:986: The name tf.assign_add is deprecated. Please use tf.compat.v1.assign_add instead.\n",
      "\n",
      "WARNING:tensorflow:From C:\\Program Files\\Anaconda3\\lib\\site-packages\\keras\\backend\\tensorflow_backend.py:973: The name tf.assign is deprecated. Please use tf.compat.v1.assign instead.\n",
      "\n",
      "Epoch 1/50\n",
      " - 1s - loss: 0.0088\n",
      "Epoch 2/50\n",
      " - 0s - loss: 0.0011\n",
      "Epoch 3/50\n",
      " - 0s - loss: 4.5600e-04\n",
      "Epoch 4/50\n",
      " - 0s - loss: 2.7642e-04\n",
      "Epoch 5/50\n",
      " - 0s - loss: 1.6498e-04\n",
      "Epoch 6/50\n",
      " - 0s - loss: 1.3945e-04\n",
      "Epoch 7/50\n",
      " - 0s - loss: 1.1216e-04\n",
      "Epoch 8/50\n",
      " - 0s - loss: 7.5721e-05\n",
      "Epoch 9/50\n",
      " - 0s - loss: 6.0907e-05\n",
      "Epoch 10/50\n",
      " - 0s - loss: 7.1989e-05\n",
      "Epoch 11/50\n",
      " - 0s - loss: 5.4233e-05\n",
      "Epoch 12/50\n",
      " - 0s - loss: 4.5079e-05\n",
      "Epoch 13/50\n",
      " - 0s - loss: 4.2199e-05\n",
      "Epoch 14/50\n",
      " - 0s - loss: 6.2782e-05\n",
      "Epoch 15/50\n",
      " - 0s - loss: 4.3183e-05\n",
      "Epoch 16/50\n",
      " - 0s - loss: 3.6017e-05\n",
      "Epoch 17/50\n",
      " - 0s - loss: 3.0121e-05\n",
      "Epoch 18/50\n",
      " - 0s - loss: 3.4562e-05\n",
      "Epoch 19/50\n",
      " - 0s - loss: 3.6444e-05\n",
      "Epoch 20/50\n",
      " - 0s - loss: 4.3866e-05\n",
      "Epoch 21/50\n",
      " - 0s - loss: 5.4858e-05\n",
      "Epoch 22/50\n",
      " - 0s - loss: 4.6904e-05\n",
      "Epoch 23/50\n",
      " - 0s - loss: 2.8855e-05\n",
      "Epoch 24/50\n",
      " - 0s - loss: 3.8197e-05\n",
      "Epoch 25/50\n",
      " - 0s - loss: 4.6911e-05\n",
      "Epoch 26/50\n",
      " - 0s - loss: 2.5381e-05\n",
      "Epoch 27/50\n",
      " - 0s - loss: 2.6796e-05\n",
      "Epoch 28/50\n",
      " - 0s - loss: 2.2419e-05\n",
      "Epoch 29/50\n",
      " - 0s - loss: 2.8793e-05\n",
      "Epoch 30/50\n",
      " - 0s - loss: 4.0019e-05\n",
      "Epoch 31/50\n",
      " - 0s - loss: 3.5266e-05\n",
      "Epoch 32/50\n",
      " - 0s - loss: 3.6640e-05\n",
      "Epoch 33/50\n",
      " - 0s - loss: 5.6792e-05\n",
      "Epoch 34/50\n",
      " - 0s - loss: 3.5407e-05\n",
      "Epoch 35/50\n",
      " - 0s - loss: 3.7647e-05\n",
      "Epoch 36/50\n",
      " - 0s - loss: 6.4459e-05\n",
      "Epoch 37/50\n",
      " - 0s - loss: 6.6062e-05\n",
      "Epoch 38/50\n",
      " - 0s - loss: 4.5944e-05\n",
      "Epoch 39/50\n",
      " - 0s - loss: 2.9254e-05\n",
      "Epoch 40/50\n",
      " - 0s - loss: 4.2399e-05\n",
      "Epoch 41/50\n",
      " - 0s - loss: 3.7788e-05\n",
      "Epoch 42/50\n",
      " - 0s - loss: 4.0442e-05\n",
      "Epoch 43/50\n",
      " - 0s - loss: 5.3699e-05\n",
      "Epoch 44/50\n",
      " - 0s - loss: 9.6954e-05\n",
      "Epoch 45/50\n",
      " - 0s - loss: 6.5217e-05\n",
      "Epoch 46/50\n",
      " - 0s - loss: 3.2106e-05\n",
      "Epoch 47/50\n",
      " - 0s - loss: 3.1537e-05\n",
      "Epoch 48/50\n",
      " - 0s - loss: 2.9406e-05\n",
      "Epoch 49/50\n",
      " - 0s - loss: 3.9790e-05\n",
      "Epoch 50/50\n",
      " - 0s - loss: 3.9719e-05\n",
      "0.00010005018906667828\n"
     ]
    }
   ],
   "source": [
    "model.fit(X_train, Y_train, epochs=50, shuffle=True, verbose=2)\n",
    "\n",
    "test_error_rate = model.evaluate(X_test, Y_test, verbose=0)\n",
    "print(test_error_rate)"
   ]
  },
  {
   "cell_type": "markdown",
   "metadata": {},
   "source": [
    "# Predict with Model"
   ]
  },
  {
   "cell_type": "code",
   "execution_count": 22,
   "metadata": {},
   "outputs": [],
   "source": [
    "X = pd.read_csv('proposed_new_product.csv')"
   ]
  },
  {
   "cell_type": "code",
   "execution_count": 23,
   "metadata": {},
   "outputs": [
    {
     "name": "stdout",
     "output_type": "stream",
     "text": [
      "263750.89711220434\n"
     ]
    }
   ],
   "source": [
    "prediction = model.predict(X)\n",
    "\n",
    "prediction = prediction[0][0]\n",
    "\n",
    "prediction = prediction+0.1159\n",
    "prediction= prediction/0.0000036968\n",
    "\n",
    "print(prediction)"
   ]
  },
  {
   "cell_type": "markdown",
   "metadata": {},
   "source": [
    "# Save and Load Pre-Traiened Model"
   ]
  },
  {
   "cell_type": "code",
   "execution_count": 24,
   "metadata": {},
   "outputs": [
    {
     "name": "stdout",
     "output_type": "stream",
     "text": [
      "Model Saved to Disk\n"
     ]
    }
   ],
   "source": [
    "model.save('trained_model.h5')\n",
    "\n",
    "print('Model Saved to Disk')"
   ]
  },
  {
   "cell_type": "code",
   "execution_count": 26,
   "metadata": {},
   "outputs": [
    {
     "name": "stdout",
     "output_type": "stream",
     "text": [
      "263750.89711220434\n"
     ]
    }
   ],
   "source": [
    "from keras.models import load_model\n",
    "\n",
    "model2 = load_model('trained_model.h5')\n",
    "\n",
    "prediction = model2.predict(X)\n",
    "\n",
    "prediction = prediction[0][0]\n",
    "\n",
    "prediction = prediction+0.1159\n",
    "prediction= prediction/0.0000036968\n",
    "\n",
    "print(prediction)"
   ]
  }
 ],
 "metadata": {
  "kernelspec": {
   "display_name": "Python 3",
   "language": "python",
   "name": "python3"
  },
  "language_info": {
   "codemirror_mode": {
    "name": "ipython",
    "version": 3
   },
   "file_extension": ".py",
   "mimetype": "text/x-python",
   "name": "python",
   "nbconvert_exporter": "python",
   "pygments_lexer": "ipython3",
   "version": "3.7.6"
  }
 },
 "nbformat": 4,
 "nbformat_minor": 2
}
