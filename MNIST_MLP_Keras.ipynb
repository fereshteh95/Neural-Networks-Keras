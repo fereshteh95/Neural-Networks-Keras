{
 "cells": [
  {
   "cell_type": "code",
   "execution_count": 1,
   "metadata": {},
   "outputs": [],
   "source": [
    "from tensorflow.keras.datasets import mnist"
   ]
  },
  {
   "cell_type": "code",
   "execution_count": 2,
   "metadata": {},
   "outputs": [],
   "source": [
    "(x_train, y_train),(x_test, y_test) = mnist.load_data()"
   ]
  },
  {
   "cell_type": "code",
   "execution_count": 3,
   "metadata": {},
   "outputs": [],
   "source": [
    "n = 28*28    #feature space dimension \n",
    "x_train = x_train.reshape((60000, n))"
   ]
  },
  {
   "cell_type": "code",
   "execution_count": 4,
   "metadata": {},
   "outputs": [],
   "source": [
    "N_train = len(x_train)\n",
    "N_test = len(x_test)\n",
    "\n",
    "x_test = x_test.reshape((N_test, n))"
   ]
  },
  {
   "cell_type": "code",
   "execution_count": 5,
   "metadata": {},
   "outputs": [],
   "source": [
    "x_train_scaled = x_train/225\n",
    "x_test_scaled = x_test/225"
   ]
  },
  {
   "cell_type": "code",
   "execution_count": 6,
   "metadata": {},
   "outputs": [],
   "source": [
    "from tensorflow.keras.models import Sequential\n",
    "from tensorflow.keras.layers import *\n",
    "from tensorflow.keras import optimizers\n",
    "from tensorflow.keras import losses\n",
    "from tensorflow.keras.utils import to_categorical"
   ]
  },
  {
   "cell_type": "code",
   "execution_count": 7,
   "metadata": {},
   "outputs": [],
   "source": [
    "model = Sequential()\n",
    "\n",
    "model.add(Dense(512, input_dim=n, activation='relu'))\n",
    "model.add(Dense(512, activation='relu'))\n",
    "model.add(Dense(10, activation='softmax'))\n",
    "\n",
    "adam = optimizers.Adam(lr=0.01)\n",
    "model.compile(loss='categorical_crossentropy', optimizer=adam)"
   ]
  },
  {
   "cell_type": "code",
   "execution_count": 9,
   "metadata": {},
   "outputs": [],
   "source": [
    "import tensorflow.keras as keras\n",
    "y_train_onehot = keras.utils.to_categorical(y_train)\n",
    "y_test_onehot = keras.utils.to_categorical(y_test)"
   ]
  },
  {
   "cell_type": "code",
   "execution_count": 10,
   "metadata": {},
   "outputs": [
    {
     "name": "stdout",
     "output_type": "stream",
     "text": [
      "Epoch 1/30\n",
      "1875/1875 - 13s - loss: 0.3346 - val_loss: 0.3163\n",
      "Epoch 2/30\n",
      "1875/1875 - 12s - loss: 0.2076 - val_loss: 0.2080\n",
      "Epoch 3/30\n",
      "1875/1875 - 13s - loss: 0.1780 - val_loss: 0.1830\n",
      "Epoch 4/30\n",
      "1875/1875 - 14s - loss: 0.1560 - val_loss: 0.1865\n",
      "Epoch 5/30\n",
      "1875/1875 - 14s - loss: 0.1455 - val_loss: 0.2543\n",
      "Epoch 6/30\n",
      "1875/1875 - 14s - loss: 0.1323 - val_loss: 0.2076\n",
      "Epoch 7/30\n",
      "1875/1875 - 13s - loss: 0.1320 - val_loss: 0.1946\n",
      "Epoch 8/30\n",
      "1875/1875 - 16s - loss: 0.1263 - val_loss: 0.1759\n",
      "Epoch 9/30\n",
      "1875/1875 - 15s - loss: 0.1176 - val_loss: 0.2167\n",
      "Epoch 10/30\n",
      "1875/1875 - 14s - loss: 0.1191 - val_loss: 0.2051\n",
      "Epoch 11/30\n",
      "1875/1875 - 13s - loss: 0.1136 - val_loss: 0.2254\n",
      "Epoch 12/30\n",
      "1875/1875 - 16s - loss: 0.1100 - val_loss: 0.2244\n",
      "Epoch 13/30\n",
      "1875/1875 - 14s - loss: 0.1038 - val_loss: 0.2120\n",
      "Epoch 14/30\n",
      "1875/1875 - 14s - loss: 0.1106 - val_loss: 0.2439\n",
      "Epoch 15/30\n",
      "1875/1875 - 14s - loss: 0.1022 - val_loss: 0.2168\n",
      "Epoch 16/30\n",
      "1875/1875 - 15s - loss: 0.0981 - val_loss: 0.2654\n",
      "Epoch 17/30\n",
      "1875/1875 - 14s - loss: 0.1268 - val_loss: 0.1913\n",
      "Epoch 18/30\n",
      "1875/1875 - 14s - loss: 0.0969 - val_loss: 0.2439\n",
      "Epoch 19/30\n",
      "1875/1875 - 15s - loss: 0.1106 - val_loss: 0.2287\n",
      "Epoch 20/30\n",
      "1875/1875 - 16s - loss: 0.1019 - val_loss: 0.1911\n",
      "Epoch 21/30\n",
      "1875/1875 - 15s - loss: 0.0959 - val_loss: 0.2466\n",
      "Epoch 22/30\n",
      "1875/1875 - 17s - loss: 0.0994 - val_loss: 0.2986\n",
      "Epoch 23/30\n",
      "1875/1875 - 13s - loss: 0.0971 - val_loss: 0.2868\n",
      "Epoch 24/30\n",
      "1875/1875 - 14s - loss: 0.1002 - val_loss: 0.3365\n",
      "Epoch 25/30\n",
      "1875/1875 - 13s - loss: 0.0975 - val_loss: 0.3810\n",
      "Epoch 26/30\n",
      "1875/1875 - 14s - loss: 0.0916 - val_loss: 0.3433\n",
      "Epoch 27/30\n",
      "1875/1875 - 17s - loss: 0.0998 - val_loss: 0.2603\n",
      "Epoch 28/30\n",
      "1875/1875 - 14s - loss: 0.0993 - val_loss: 0.2689\n",
      "Epoch 29/30\n",
      "1875/1875 - 13s - loss: 0.0812 - val_loss: 0.2806\n",
      "Epoch 30/30\n",
      "1875/1875 - 14s - loss: 0.1022 - val_loss: 0.3232\n"
     ]
    },
    {
     "data": {
      "text/plain": [
       "<tensorflow.python.keras.callbacks.History at 0x1fb571aa048>"
      ]
     },
     "execution_count": 10,
     "metadata": {},
     "output_type": "execute_result"
    }
   ],
   "source": [
    "model.fit(x_train_scaled,\n",
    "          y_train_onehot,\n",
    "          batch_size=32,\n",
    "          epochs=30, shuffle=True,\n",
    "          validation_data=(x_test_scaled, y_test_onehot),\n",
    "          verbose=2)"
   ]
  },
  {
   "cell_type": "code",
   "execution_count": 11,
   "metadata": {},
   "outputs": [],
   "source": [
    "predicted_y = model.predict(x_test_scaled)"
   ]
  },
  {
   "cell_type": "code",
   "execution_count": 13,
   "metadata": {},
   "outputs": [],
   "source": [
    "import numpy as np\n",
    "predicted_y_one = np.zeros((10000,1))\n",
    "for i in range(len(predicted_y_one)):\n",
    "    predicted_y_one[i] = list(predicted_y[i][:]).index(predicted_y[i][:].max()) "
   ]
  },
  {
   "cell_type": "code",
   "execution_count": 14,
   "metadata": {},
   "outputs": [
    {
     "name": "stdout",
     "output_type": "stream",
     "text": [
      "96.03\n",
      "\n",
      "9603\n"
     ]
    }
   ],
   "source": [
    "acc = 0\n",
    "for i in range(len(predicted_y_one)):\n",
    "    if predicted_y_one[i] == y_test[i]:\n",
    "        acc += 1\n",
    "    \n",
    "test_acc = ((acc)/len(y_test))*100\n",
    "print(test_acc)\n",
    "print()\n",
    "print((acc))"
   ]
  },
  {
   "cell_type": "code",
   "execution_count": null,
   "metadata": {},
   "outputs": [],
   "source": []
  }
 ],
 "metadata": {
  "kernelspec": {
   "display_name": "Python 3",
   "language": "python",
   "name": "python3"
  },
  "language_info": {
   "codemirror_mode": {
    "name": "ipython",
    "version": 3
   },
   "file_extension": ".py",
   "mimetype": "text/x-python",
   "name": "python",
   "nbconvert_exporter": "python",
   "pygments_lexer": "ipython3",
   "version": "3.7.8"
  }
 },
 "nbformat": 4,
 "nbformat_minor": 2
}
