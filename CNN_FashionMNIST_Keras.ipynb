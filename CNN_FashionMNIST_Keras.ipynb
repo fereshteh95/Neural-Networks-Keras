{
 "cells": [
  {
   "cell_type": "code",
   "execution_count": 1,
   "metadata": {},
   "outputs": [],
   "source": [
    "from tensorflow.keras.datasets import fashion_mnist\n",
    "((X_train, Y_train),(X_test, Y_test)) = fashion_mnist.load_data()"
   ]
  },
  {
   "cell_type": "code",
   "execution_count": 2,
   "metadata": {},
   "outputs": [],
   "source": [
    "import numpy as np\n",
    "import matplotlib.pyplot as plt\n",
    "import tensorflow as tf\n",
    "import pandas as pd"
   ]
  },
  {
   "cell_type": "code",
   "execution_count": 3,
   "metadata": {},
   "outputs": [],
   "source": [
    "y_train = pd.get_dummies(Y_train.astype(str))\n",
    "y_test = pd.get_dummies(Y_test.astype(str))\n",
    "y_train = y_train.values\n",
    "y_test = y_test.values"
   ]
  },
  {
   "cell_type": "code",
   "execution_count": 4,
   "metadata": {},
   "outputs": [],
   "source": [
    "x_train = X_train.reshape(60000, 784)/255\n",
    "x_test = X_test.reshape(10000, 784)/255\n",
    "x_train = x_train.reshape(60000,28,28,1)\n",
    "x_test = x_test.reshape(10000,28,28,1)"
   ]
  },
  {
   "cell_type": "code",
   "execution_count": 5,
   "metadata": {},
   "outputs": [],
   "source": [
    "from tensorflow.keras.models import Sequential\n",
    "from tensorflow.keras.layers import Conv2D,Dense,Dropout,Flatten,MaxPool2D"
   ]
  },
  {
   "cell_type": "code",
   "execution_count": 6,
   "metadata": {},
   "outputs": [],
   "source": [
    "model = Sequential()\n",
    "\n",
    "# Add Model Layers\n",
    "model.add(Conv2D(32, kernel_size=5, padding='SAME',\n",
    "                 data_format='channels_last',\n",
    "                 use_bias='True',\n",
    "                 activation='relu',\n",
    "                 input_shape=(28,28,1)))\n",
    "\n",
    "model.add(MaxPool2D(pool_size=(2,2), padding='SAME'))\n",
    "\n",
    "model.add(Conv2D(64, kernel_size=5, padding='SAME',\n",
    "                 data_format='channels_last',\n",
    "                 use_bias='True',\n",
    "                 activation='relu'))\n",
    "model.add(MaxPool2D(pool_size=(2,2), padding='SAME'))\n",
    "\n",
    "model.add(Flatten())\n",
    "\n",
    "model.add(Dense(1024, activation='relu'))\n",
    "\n",
    "model.add(Dropout(rate=0.5))\n",
    "\n",
    "model.add(Dense(10, activation='softmax'))"
   ]
  },
  {
   "cell_type": "code",
   "execution_count": 7,
   "metadata": {},
   "outputs": [
    {
     "name": "stdout",
     "output_type": "stream",
     "text": [
      "Model: \"sequential\"\n",
      "_________________________________________________________________\n",
      "Layer (type)                 Output Shape              Param #   \n",
      "=================================================================\n",
      "conv2d (Conv2D)              (None, 28, 28, 32)        832       \n",
      "_________________________________________________________________\n",
      "max_pooling2d (MaxPooling2D) (None, 14, 14, 32)        0         \n",
      "_________________________________________________________________\n",
      "conv2d_1 (Conv2D)            (None, 14, 14, 64)        51264     \n",
      "_________________________________________________________________\n",
      "max_pooling2d_1 (MaxPooling2 (None, 7, 7, 64)          0         \n",
      "_________________________________________________________________\n",
      "flatten (Flatten)            (None, 3136)              0         \n",
      "_________________________________________________________________\n",
      "dense (Dense)                (None, 1024)              3212288   \n",
      "_________________________________________________________________\n",
      "dropout (Dropout)            (None, 1024)              0         \n",
      "_________________________________________________________________\n",
      "dense_1 (Dense)              (None, 10)                10250     \n",
      "=================================================================\n",
      "Total params: 3,274,634\n",
      "Trainable params: 3,274,634\n",
      "Non-trainable params: 0\n",
      "_________________________________________________________________\n"
     ]
    }
   ],
   "source": [
    "model.summary()"
   ]
  },
  {
   "cell_type": "code",
   "execution_count": 8,
   "metadata": {},
   "outputs": [],
   "source": [
    "from tensorflow.keras import optimizers\n",
    "from tensorflow.keras import losses"
   ]
  },
  {
   "cell_type": "code",
   "execution_count": 9,
   "metadata": {},
   "outputs": [],
   "source": [
    "adam = optimizers.Adam(lr=0.001)\n",
    "model.compile(loss='categorical_crossentropy',optimizer=adam)"
   ]
  },
  {
   "cell_type": "code",
   "execution_count": 10,
   "metadata": {},
   "outputs": [
    {
     "name": "stdout",
     "output_type": "stream",
     "text": [
      "Epoch 1/10\n",
      "600/600 - 121s - loss: 0.4460 - val_loss: 0.3297\n",
      "Epoch 2/10\n",
      "600/600 - 132s - loss: 0.2855 - val_loss: 0.2903\n",
      "Epoch 3/10\n",
      "600/600 - 110s - loss: 0.2384 - val_loss: 0.2512\n",
      "Epoch 4/10\n",
      "600/600 - 111s - loss: 0.2084 - val_loss: 0.2425\n",
      "Epoch 5/10\n",
      "600/600 - 121s - loss: 0.1835 - val_loss: 0.2339\n",
      "Epoch 6/10\n",
      "600/600 - 121s - loss: 0.1635 - val_loss: 0.2348\n",
      "Epoch 7/10\n",
      "600/600 - 123s - loss: 0.1441 - val_loss: 0.2286\n",
      "Epoch 8/10\n",
      "600/600 - 121s - loss: 0.1277 - val_loss: 0.2251\n",
      "Epoch 9/10\n",
      "600/600 - 122s - loss: 0.1131 - val_loss: 0.2496\n",
      "Epoch 10/10\n",
      "600/600 - 119s - loss: 0.0988 - val_loss: 0.2531\n"
     ]
    },
    {
     "data": {
      "text/plain": [
       "<tensorflow.python.keras.callbacks.History at 0x1e85820e448>"
      ]
     },
     "execution_count": 10,
     "metadata": {},
     "output_type": "execute_result"
    }
   ],
   "source": [
    "model.fit(x_train, y_train,\n",
    "         batch_size=100,\n",
    "         epochs=10,\n",
    "         shuffle=True,\n",
    "         validation_data=(x_test, y_test),\n",
    "         verbose=2)"
   ]
  },
  {
   "cell_type": "code",
   "execution_count": 11,
   "metadata": {},
   "outputs": [
    {
     "name": "stdout",
     "output_type": "stream",
     "text": [
      "0.9219\n"
     ]
    }
   ],
   "source": [
    "predicted_y = model.predict(x_test)\n",
    "predicted_y_one = np.zeros((10000,1))\n",
    "y_test_one = np.zeros((10000,1))\n",
    "for i in range(len(predicted_y_one)):\n",
    "    predicted_y_one[i] = list(predicted_y[i][:]).index(predicted_y[i][:].max()) \n",
    "    y_test_one[i] = list(y_test[i][:]).index(y_test[i][:].max())\n",
    "    \n",
    "acc = 0\n",
    "for i in range(len(predicted_y_one)):\n",
    "    if predicted_y_one[i] == y_test_one[i]:\n",
    "        acc += 1\n",
    "    \n",
    "test_acc = ((acc)/len(y_test))\n",
    "print(test_acc)"
   ]
  },
  {
   "cell_type": "code",
   "execution_count": null,
   "metadata": {},
   "outputs": [],
   "source": []
  }
 ],
 "metadata": {
  "kernelspec": {
   "display_name": "Python 3",
   "language": "python",
   "name": "python3"
  },
  "language_info": {
   "codemirror_mode": {
    "name": "ipython",
    "version": 3
   },
   "file_extension": ".py",
   "mimetype": "text/x-python",
   "name": "python",
   "nbconvert_exporter": "python",
   "pygments_lexer": "ipython3",
   "version": "3.7.8"
  }
 },
 "nbformat": 4,
 "nbformat_minor": 2
}
