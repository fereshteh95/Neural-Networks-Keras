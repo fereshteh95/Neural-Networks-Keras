{
 "cells": [
  {
   "cell_type": "code",
   "execution_count": 3,
   "metadata": {},
   "outputs": [],
   "source": [
    "import numpy as np\n",
    "from sklearn import preprocessing\n",
    "raw_csv_data = np.loadtxt('Audiobooks_data.csv', delimiter=',')\n",
    "unscaled_inputs_all = raw_csv_data[:,1:-1]\n",
    "targets_all = raw_csv_data[:,-1]"
   ]
  },
  {
   "cell_type": "markdown",
   "metadata": {},
   "source": [
    "# Balance the Dataset"
   ]
  },
  {
   "cell_type": "code",
   "execution_count": 4,
   "metadata": {},
   "outputs": [],
   "source": [
    "num_one_targets = int(np.sum(targets_all))\n",
    "zero_targets_counter = 0\n",
    "indices_to_remove = []\n",
    "for i in range(len(targets_all)):\n",
    "    if targets_all[i] == 0:\n",
    "        zero_targets_counter += 1\n",
    "        if zero_targets_counter > num_one_targets:\n",
    "            indices_to_remove.append(i)\n",
    "unscaled_inputs_equal_priors = np.delete(unscaled_inputs_all, indices_to_remove, axis=0)\n",
    "targets_equal_prior = np.delete(targets_all, indices_to_remove, axis=0)"
   ]
  },
  {
   "cell_type": "markdown",
   "metadata": {},
   "source": [
    "# Standardize the inputs"
   ]
  },
  {
   "cell_type": "code",
   "execution_count": 5,
   "metadata": {},
   "outputs": [],
   "source": [
    "scaled_inputs = preprocessing.scale(unscaled_inputs_equal_priors)"
   ]
  },
  {
   "cell_type": "markdown",
   "metadata": {},
   "source": [
    "# Shuffle the data"
   ]
  },
  {
   "cell_type": "code",
   "execution_count": 6,
   "metadata": {},
   "outputs": [],
   "source": [
    "shuffled_indices = np.arange(scaled_inputs.shape[0])\n",
    "np.random.shuffle(shuffled_indices)\n",
    "\n",
    "shuffled_inputs = scaled_inputs[shuffled_indices]\n",
    "shuffled_targets = targets_equal_prior[shuffled_indices]"
   ]
  },
  {
   "cell_type": "markdown",
   "metadata": {},
   "source": [
    "# Split the dataset"
   ]
  },
  {
   "cell_type": "code",
   "execution_count": 9,
   "metadata": {},
   "outputs": [
    {
     "name": "stdout",
     "output_type": "stream",
     "text": [
      "1794.0 3579 0.501257334450964\n",
      "213.0 447 0.47651006711409394\n",
      "230.0 448 0.5133928571428571\n"
     ]
    }
   ],
   "source": [
    "sample_count = shuffled_inputs.shape[0]\n",
    "train_sample_count = int(0.8*sample_count)\n",
    "validation_sample_count = int(0.1*sample_count)\n",
    "test_sample_count = sample_count - train_sample_count - validation_sample_count\n",
    "\n",
    "train_inputs = shuffled_inputs[:train_sample_count]\n",
    "train_targets = shuffled_targets[:train_sample_count]\n",
    "\n",
    "validation_inputs = shuffled_inputs[train_sample_count:train_sample_count+validation_sample_count]\n",
    "validation_targets = shuffled_targets[train_sample_count:train_sample_count+validation_sample_count]\n",
    "\n",
    "test_input = shuffled_inputs[train_sample_count+validation_sample_count:]\n",
    "test_targets = shuffled_targets[train_sample_count+validation_sample_count:]\n",
    "\n",
    "print(np.sum(train_targets), train_sample_count, np.sum(train_targets)/train_sample_count)\n",
    "print(np.sum(validation_targets), validation_sample_count, np.sum(validation_targets)/validation_sample_count)\n",
    "print(np.sum(test_targets), test_sample_count, np.sum(test_targets)/test_sample_count)"
   ]
  },
  {
   "cell_type": "markdown",
   "metadata": {},
   "source": [
    "# Save the three datasets"
   ]
  },
  {
   "cell_type": "code",
   "execution_count": 11,
   "metadata": {},
   "outputs": [],
   "source": [
    "np.savez('Audiobooks_data_train', inputs=train_inputs, targets=train_targets)\n",
    "np.savez('Audiobooks_data_validation', inputs=validation_inputs, targets=validation_targets)\n",
    "np.savez('Audiobooks_data_test', inputs=test_input, targets=test_targets)"
   ]
  },
  {
   "cell_type": "code",
   "execution_count": 12,
   "metadata": {},
   "outputs": [],
   "source": [
    "import tensorflow as tf"
   ]
  },
  {
   "cell_type": "code",
   "execution_count": 13,
   "metadata": {},
   "outputs": [],
   "source": [
    "npz = np.load('Audiobooks_data_train.npz')\n",
    "train_inputs = npz['inputs'].astype(np.float)\n",
    "train_targets = npz['targets'].astype(np.int)\n",
    "\n",
    "npz = np.load('Audiobooks_data_validation.npz')\n",
    "validation_inputs = npz['inputs'].astype(np.float)\n",
    "validation_targets = npz['targets'].astype(np.int)\n",
    "\n",
    "npz = np.load('Audiobooks_data_test.npz')\n",
    "test_inputs = npz['inputs'].astype(np.float)\n",
    "test_targets = npz['targets'].astype(np.int)"
   ]
  },
  {
   "cell_type": "markdown",
   "metadata": {},
   "source": [
    "# Building the Model"
   ]
  },
  {
   "cell_type": "code",
   "execution_count": 18,
   "metadata": {},
   "outputs": [
    {
     "name": "stdout",
     "output_type": "stream",
     "text": [
      "Epoch 1/100\n",
      "36/36 - 0s - loss: 0.5073 - accuracy: 0.8145 - val_loss: 0.3741 - val_accuracy: 0.8971\n",
      "Epoch 2/100\n",
      "36/36 - 0s - loss: 0.3492 - accuracy: 0.8793 - val_loss: 0.2981 - val_accuracy: 0.8993\n",
      "Epoch 3/100\n",
      "36/36 - 0s - loss: 0.3109 - accuracy: 0.8852 - val_loss: 0.2787 - val_accuracy: 0.8949\n",
      "Epoch 4/100\n",
      "36/36 - 0s - loss: 0.2911 - accuracy: 0.8905 - val_loss: 0.2704 - val_accuracy: 0.9083\n",
      "Epoch 5/100\n",
      "36/36 - 0s - loss: 0.2790 - accuracy: 0.8952 - val_loss: 0.2664 - val_accuracy: 0.9038\n",
      "Epoch 6/100\n",
      "36/36 - 0s - loss: 0.2679 - accuracy: 0.8975 - val_loss: 0.2562 - val_accuracy: 0.9038\n",
      "Epoch 7/100\n",
      "36/36 - 0s - loss: 0.2622 - accuracy: 0.9008 - val_loss: 0.2622 - val_accuracy: 0.9105\n",
      "Epoch 8/100\n",
      "36/36 - 0s - loss: 0.2565 - accuracy: 0.9039 - val_loss: 0.2507 - val_accuracy: 0.9105\n",
      "Epoch 9/100\n",
      "36/36 - 0s - loss: 0.2506 - accuracy: 0.9030 - val_loss: 0.2545 - val_accuracy: 0.9083\n",
      "Epoch 10/100\n",
      "36/36 - 0s - loss: 0.2477 - accuracy: 0.9047 - val_loss: 0.2464 - val_accuracy: 0.9128\n",
      "Epoch 11/100\n",
      "36/36 - 0s - loss: 0.2448 - accuracy: 0.9036 - val_loss: 0.2407 - val_accuracy: 0.9172\n",
      "Epoch 12/100\n",
      "36/36 - 0s - loss: 0.2428 - accuracy: 0.9058 - val_loss: 0.2407 - val_accuracy: 0.9150\n",
      "Epoch 13/100\n",
      "36/36 - 0s - loss: 0.2399 - accuracy: 0.9078 - val_loss: 0.2427 - val_accuracy: 0.9060\n"
     ]
    },
    {
     "data": {
      "text/plain": [
       "<tensorflow.python.keras.callbacks.History at 0x148f889bc88>"
      ]
     },
     "execution_count": 18,
     "metadata": {},
     "output_type": "execute_result"
    }
   ],
   "source": [
    "input_size = 10\n",
    "output_size = 2\n",
    "hidden_layer_size = 50\n",
    "\n",
    "model = tf.keras.Sequential([\n",
    "    tf.keras.layers.Dense(hidden_layer_size, activation='relu'),\n",
    "    tf.keras.layers.Dense(hidden_layer_size, activation='relu'),\n",
    "    tf.keras.layers.Dense(output_size, activation='softmax')\n",
    "])\n",
    "\n",
    "model.compile(optimizer='adam', loss='sparse_categorical_crossentropy', metrics=['accuracy'])\n",
    "\n",
    "batch_size = 100\n",
    "max_epochs = 100\n",
    "early_stopping = tf.keras.callbacks.EarlyStopping(patience=2)\n",
    "\n",
    "model.fit(\n",
    "    train_inputs,\n",
    "    train_targets,\n",
    "    batch_size=batch_size,\n",
    "    epochs=max_epochs,\n",
    "    callbacks=[early_stopping],\n",
    "    validation_data=(validation_inputs, validation_targets),\n",
    "    verbose=2\n",
    ")"
   ]
  },
  {
   "cell_type": "markdown",
   "metadata": {},
   "source": [
    "# Test the Model"
   ]
  },
  {
   "cell_type": "code",
   "execution_count": 19,
   "metadata": {},
   "outputs": [
    {
     "name": "stdout",
     "output_type": "stream",
     "text": [
      "14/14 [==============================] - 0s 2ms/step - loss: 0.2854 - accuracy: 0.8906\n"
     ]
    }
   ],
   "source": [
    "test_loss, test_accuracy = model.evaluate(test_input, test_targets)"
   ]
  },
  {
   "cell_type": "code",
   "execution_count": null,
   "metadata": {},
   "outputs": [],
   "source": []
  }
 ],
 "metadata": {
  "kernelspec": {
   "display_name": "Python 3",
   "language": "python",
   "name": "python3"
  },
  "language_info": {
   "codemirror_mode": {
    "name": "ipython",
    "version": 3
   },
   "file_extension": ".py",
   "mimetype": "text/x-python",
   "name": "python",
   "nbconvert_exporter": "python",
   "pygments_lexer": "ipython3",
   "version": "3.7.8"
  }
 },
 "nbformat": 4,
 "nbformat_minor": 4
}
