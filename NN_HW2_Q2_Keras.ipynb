{
 "cells": [
  {
   "cell_type": "code",
   "execution_count": 1,
   "metadata": {},
   "outputs": [
    {
     "name": "stdout",
     "output_type": "stream",
     "text": [
      "D:\\SAME\\Msc\\5th semester\\ANN and deep learning\\HWs\\HW2\n"
     ]
    }
   ],
   "source": [
    "%cd D:/SAME/Msc/5th semester/ANN and deep learning/HWs/HW2"
   ]
  },
  {
   "cell_type": "code",
   "execution_count": 2,
   "metadata": {},
   "outputs": [
    {
     "name": "stderr",
     "output_type": "stream",
     "text": [
      "Using TensorFlow backend.\n"
     ]
    }
   ],
   "source": [
    "from keras.datasets import mnist"
   ]
  },
  {
   "cell_type": "code",
   "execution_count": 3,
   "metadata": {},
   "outputs": [],
   "source": [
    "(x_train, y_train),(x_test, y_test) = mnist.load_data()"
   ]
  },
  {
   "cell_type": "code",
   "execution_count": 4,
   "metadata": {},
   "outputs": [],
   "source": [
    "n = 28*28    #feature space dimension \n",
    "N_train = len(x_train)\n",
    "N_test = len(x_test)\n",
    "\n",
    "x_test = x_test.reshape((N_test, n))\n",
    "x_train = x_train.reshape((N_train, n))"
   ]
  },
  {
   "cell_type": "code",
   "execution_count": 5,
   "metadata": {},
   "outputs": [],
   "source": [
    "x_train = x_train[0:6000][:]\n",
    "x_test = x_test[0:500][:]"
   ]
  },
  {
   "cell_type": "code",
   "execution_count": 6,
   "metadata": {},
   "outputs": [],
   "source": [
    "x_train_scaled = x_train/225\n",
    "x_test_scaled = x_test/225"
   ]
  },
  {
   "cell_type": "code",
   "execution_count": 7,
   "metadata": {},
   "outputs": [],
   "source": [
    "y_train = y_train[0:6000]\n",
    "y_test = y_test[0:500]"
   ]
  },
  {
   "cell_type": "markdown",
   "metadata": {},
   "source": [
    "# Simple One Layer Autoencoder"
   ]
  },
  {
   "cell_type": "code",
   "execution_count": 8,
   "metadata": {},
   "outputs": [],
   "source": [
    "from keras.layers import Input, Dense\n",
    "from keras.models import Model"
   ]
  },
  {
   "cell_type": "markdown",
   "metadata": {},
   "source": [
    "Size of our encoded representation"
   ]
  },
  {
   "cell_type": "code",
   "execution_count": 9,
   "metadata": {},
   "outputs": [],
   "source": [
    "encoding_dim = 32"
   ]
  },
  {
   "cell_type": "markdown",
   "metadata": {},
   "source": [
    "Input Placeholder"
   ]
  },
  {
   "cell_type": "code",
   "execution_count": 10,
   "metadata": {},
   "outputs": [
    {
     "name": "stdout",
     "output_type": "stream",
     "text": [
      "WARNING:tensorflow:From C:\\Program Files\\Anaconda3\\lib\\site-packages\\keras\\backend\\tensorflow_backend.py:74: The name tf.get_default_graph is deprecated. Please use tf.compat.v1.get_default_graph instead.\n",
      "\n",
      "WARNING:tensorflow:From C:\\Program Files\\Anaconda3\\lib\\site-packages\\keras\\backend\\tensorflow_backend.py:517: The name tf.placeholder is deprecated. Please use tf.compat.v1.placeholder instead.\n",
      "\n"
     ]
    }
   ],
   "source": [
    "input_img = Input(shape=(784,))"
   ]
  },
  {
   "cell_type": "markdown",
   "metadata": {},
   "source": [
    "The encoded representation of the input"
   ]
  },
  {
   "cell_type": "code",
   "execution_count": 11,
   "metadata": {
    "scrolled": true
   },
   "outputs": [
    {
     "name": "stdout",
     "output_type": "stream",
     "text": [
      "WARNING:tensorflow:From C:\\Program Files\\Anaconda3\\lib\\site-packages\\keras\\backend\\tensorflow_backend.py:4138: The name tf.random_uniform is deprecated. Please use tf.random.uniform instead.\n",
      "\n"
     ]
    }
   ],
   "source": [
    "encoded = Dense(encoding_dim, activation='relu')(input_img)"
   ]
  },
  {
   "cell_type": "markdown",
   "metadata": {},
   "source": [
    "Reconstruction of the input"
   ]
  },
  {
   "cell_type": "code",
   "execution_count": 12,
   "metadata": {},
   "outputs": [],
   "source": [
    "decoded = Dense(784,activation='sigmoid')(encoded)"
   ]
  },
  {
   "cell_type": "markdown",
   "metadata": {},
   "source": [
    "Autoencoder Model"
   ]
  },
  {
   "cell_type": "code",
   "execution_count": 13,
   "metadata": {},
   "outputs": [],
   "source": [
    "autoencoder = Model(input_img, decoded)"
   ]
  },
  {
   "cell_type": "markdown",
   "metadata": {},
   "source": [
    "Input to encoded dimension model"
   ]
  },
  {
   "cell_type": "code",
   "execution_count": 14,
   "metadata": {},
   "outputs": [],
   "source": [
    "encoder = Model(input_img, encoded)"
   ]
  },
  {
   "cell_type": "markdown",
   "metadata": {},
   "source": [
    "encoded data to the input data model"
   ]
  },
  {
   "cell_type": "code",
   "execution_count": 15,
   "metadata": {},
   "outputs": [],
   "source": [
    "# Create a placeholder for an encoded input\n",
    "encoded_input = Input(shape=(encoding_dim,))\n",
    "# retrieve the last layer of the autoencoder model\n",
    "decoder_layer = autoencoder.layers[-1]\n",
    "#create the decoder model\n",
    "decoder = Model(encoded_input, decoder_layer(encoded_input))"
   ]
  },
  {
   "cell_type": "markdown",
   "metadata": {},
   "source": [
    "Training"
   ]
  },
  {
   "cell_type": "code",
   "execution_count": 16,
   "metadata": {
    "scrolled": true
   },
   "outputs": [
    {
     "name": "stdout",
     "output_type": "stream",
     "text": [
      "WARNING:tensorflow:From C:\\Program Files\\Anaconda3\\lib\\site-packages\\keras\\optimizers.py:790: The name tf.train.Optimizer is deprecated. Please use tf.compat.v1.train.Optimizer instead.\n",
      "\n",
      "WARNING:tensorflow:From C:\\Program Files\\Anaconda3\\lib\\site-packages\\keras\\backend\\tensorflow_backend.py:3376: The name tf.log is deprecated. Please use tf.math.log instead.\n",
      "\n",
      "WARNING:tensorflow:From C:\\Program Files\\Anaconda3\\lib\\site-packages\\tensorflow\\python\\ops\\nn_impl.py:180: add_dispatch_support.<locals>.wrapper (from tensorflow.python.ops.array_ops) is deprecated and will be removed in a future version.\n",
      "Instructions for updating:\n",
      "Use tf.where in 2.0, which has the same broadcast rule as np.where\n"
     ]
    }
   ],
   "source": [
    "autoencoder.compile(optimizer='adadelta', loss='binary_crossentropy')"
   ]
  },
  {
   "cell_type": "code",
   "execution_count": 17,
   "metadata": {},
   "outputs": [
    {
     "name": "stdout",
     "output_type": "stream",
     "text": [
      "WARNING:tensorflow:From C:\\Program Files\\Anaconda3\\lib\\site-packages\\keras\\backend\\tensorflow_backend.py:986: The name tf.assign_add is deprecated. Please use tf.compat.v1.assign_add instead.\n",
      "\n",
      "Train on 6000 samples, validate on 500 samples\n",
      "Epoch 1/50\n",
      " - 1s - loss: 0.6727 - val_loss: 0.6241\n",
      "Epoch 2/50\n",
      " - 0s - loss: 0.4957 - val_loss: 0.3744\n",
      "Epoch 3/50\n",
      " - 0s - loss: 0.3276 - val_loss: 0.3067\n",
      "Epoch 4/50\n",
      " - 0s - loss: 0.2983 - val_loss: 0.2929\n",
      "Epoch 5/50\n",
      " - 0s - loss: 0.2906 - val_loss: 0.2864\n",
      "Epoch 6/50\n",
      " - 0s - loss: 0.2867 - val_loss: 0.2830\n",
      "Epoch 7/50\n",
      " - 0s - loss: 0.2839 - val_loss: 0.2799\n",
      "Epoch 8/50\n",
      " - 0s - loss: 0.2816 - val_loss: 0.2778\n",
      "Epoch 9/50\n",
      " - 0s - loss: 0.2794 - val_loss: 0.2754\n",
      "Epoch 10/50\n",
      " - 0s - loss: 0.2772 - val_loss: 0.2730\n",
      "Epoch 11/50\n",
      " - 0s - loss: 0.2747 - val_loss: 0.2704\n",
      "Epoch 12/50\n",
      " - 0s - loss: 0.2720 - val_loss: 0.2681\n",
      "Epoch 13/50\n",
      " - 0s - loss: 0.2689 - val_loss: 0.2653\n",
      "Epoch 14/50\n",
      " - 0s - loss: 0.2654 - val_loss: 0.2618\n",
      "Epoch 15/50\n",
      " - 0s - loss: 0.2616 - val_loss: 0.2581\n",
      "Epoch 16/50\n",
      " - 0s - loss: 0.2576 - val_loss: 0.2553\n",
      "Epoch 17/50\n",
      " - 0s - loss: 0.2534 - val_loss: 0.2510\n",
      "Epoch 18/50\n",
      " - 0s - loss: 0.2490 - val_loss: 0.2467\n",
      "Epoch 19/50\n",
      " - 0s - loss: 0.2447 - val_loss: 0.2437\n",
      "Epoch 20/50\n",
      " - 0s - loss: 0.2404 - val_loss: 0.2395\n",
      "Epoch 21/50\n",
      " - 0s - loss: 0.2362 - val_loss: 0.2358\n",
      "Epoch 22/50\n",
      " - 0s - loss: 0.2322 - val_loss: 0.2323\n",
      "Epoch 23/50\n",
      " - 0s - loss: 0.2283 - val_loss: 0.2292\n",
      "Epoch 24/50\n",
      " - 0s - loss: 0.2246 - val_loss: 0.2262\n",
      "Epoch 25/50\n",
      " - 0s - loss: 0.2210 - val_loss: 0.2229\n",
      "Epoch 26/50\n",
      " - 0s - loss: 0.2176 - val_loss: 0.2202\n",
      "Epoch 27/50\n",
      " - 0s - loss: 0.2144 - val_loss: 0.2175\n",
      "Epoch 28/50\n",
      " - 0s - loss: 0.2114 - val_loss: 0.2149\n",
      "Epoch 29/50\n",
      " - 0s - loss: 0.2085 - val_loss: 0.2122\n",
      "Epoch 30/50\n",
      " - 0s - loss: 0.2058 - val_loss: 0.2102\n",
      "Epoch 31/50\n",
      " - 0s - loss: 0.2032 - val_loss: 0.2078\n",
      "Epoch 32/50\n",
      " - 0s - loss: 0.2008 - val_loss: 0.2058\n",
      "Epoch 33/50\n",
      " - 0s - loss: 0.1984 - val_loss: 0.2036\n",
      "Epoch 34/50\n",
      " - 0s - loss: 0.1962 - val_loss: 0.2019\n",
      "Epoch 35/50\n",
      " - 0s - loss: 0.1942 - val_loss: 0.2002\n",
      "Epoch 36/50\n",
      " - 0s - loss: 0.1922 - val_loss: 0.1981\n",
      "Epoch 37/50\n",
      " - 0s - loss: 0.1903 - val_loss: 0.1967\n",
      "Epoch 38/50\n",
      " - 0s - loss: 0.1885 - val_loss: 0.1950\n",
      "Epoch 39/50\n",
      " - 0s - loss: 0.1867 - val_loss: 0.1937\n",
      "Epoch 40/50\n",
      " - 0s - loss: 0.1850 - val_loss: 0.1922\n",
      "Epoch 41/50\n",
      " - 0s - loss: 0.1834 - val_loss: 0.1905\n",
      "Epoch 42/50\n",
      " - 0s - loss: 0.1819 - val_loss: 0.1891\n",
      "Epoch 43/50\n",
      " - 0s - loss: 0.1803 - val_loss: 0.1878\n",
      "Epoch 44/50\n",
      " - 0s - loss: 0.1789 - val_loss: 0.1864\n",
      "Epoch 45/50\n",
      " - 0s - loss: 0.1774 - val_loss: 0.1852\n",
      "Epoch 46/50\n",
      " - 0s - loss: 0.1760 - val_loss: 0.1839\n",
      "Epoch 47/50\n",
      " - 0s - loss: 0.1747 - val_loss: 0.1827\n",
      "Epoch 48/50\n",
      " - 0s - loss: 0.1734 - val_loss: 0.1816\n",
      "Epoch 49/50\n",
      " - 0s - loss: 0.1721 - val_loss: 0.1803\n",
      "Epoch 50/50\n",
      " - 0s - loss: 0.1708 - val_loss: 0.1790\n"
     ]
    },
    {
     "data": {
      "text/plain": [
       "<keras.callbacks.History at 0x2c222a56588>"
      ]
     },
     "execution_count": 17,
     "metadata": {},
     "output_type": "execute_result"
    }
   ],
   "source": [
    "autoencoder.fit(x_train_scaled, x_train_scaled, epochs=50, batch_size=256, shuffle=True, validation_data=(x_test_scaled, x_test_scaled), verbose=2)"
   ]
  },
  {
   "cell_type": "code",
   "execution_count": 18,
   "metadata": {},
   "outputs": [],
   "source": [
    "encoded_train = encoder.predict(x_train_scaled)\n",
    "encoded_test = encoder.predict(x_test_scaled)\n",
    "decoded_tests = decoder.predict(encoded_test)"
   ]
  },
  {
   "cell_type": "code",
   "execution_count": 27,
   "metadata": {},
   "outputs": [],
   "source": [
    "from keras.models import Sequential\n",
    "from keras.layers import *\n",
    "from keras import optimizers\n",
    "from keras import losses\n",
    "from keras.utils import to_categorical"
   ]
  },
  {
   "cell_type": "code",
   "execution_count": 28,
   "metadata": {},
   "outputs": [],
   "source": [
    "model = Sequential()\n",
    "\n",
    "model.add(Dense(512, input_dim=encoding_dim, activation='relu'))\n",
    "model.add(Dense(512, activation='relu'))\n",
    "model.add(Dense(10, activation='softmax'))\n",
    "\n",
    "adam = optimizers.adam(lr=0.01)\n",
    "model.compile(loss='sparse_categorical_crossentropy', optimizer=adam)"
   ]
  },
  {
   "cell_type": "code",
   "execution_count": 30,
   "metadata": {},
   "outputs": [
    {
     "name": "stdout",
     "output_type": "stream",
     "text": [
      "Train on 6000 samples, validate on 500 samples\n",
      "Epoch 1/30\n",
      " - 7s - loss: 14.3693 - val_loss: 14.5385\n",
      "Epoch 2/30\n",
      " - 6s - loss: 14.3693 - val_loss: 14.5385\n",
      "Epoch 3/30\n",
      " - 6s - loss: 14.3693 - val_loss: 14.5385\n",
      "Epoch 4/30\n",
      " - 7s - loss: 14.3693 - val_loss: 14.5385\n",
      "Epoch 5/30\n",
      " - 6s - loss: 14.3693 - val_loss: 14.5385\n",
      "Epoch 6/30\n",
      " - 6s - loss: 14.3693 - val_loss: 14.5385\n",
      "Epoch 7/30\n",
      " - 6s - loss: 14.3693 - val_loss: 14.5385\n",
      "Epoch 8/30\n",
      " - 6s - loss: 14.3693 - val_loss: 14.5385\n",
      "Epoch 9/30\n",
      " - 6s - loss: 14.3693 - val_loss: 14.5385\n",
      "Epoch 10/30\n",
      " - 7s - loss: 14.3693 - val_loss: 14.5385\n",
      "Epoch 11/30\n",
      " - 7s - loss: 14.3693 - val_loss: 14.5385\n",
      "Epoch 12/30\n",
      " - 7s - loss: 14.3693 - val_loss: 14.5385\n",
      "Epoch 13/30\n",
      " - 7s - loss: 14.3693 - val_loss: 14.5385\n",
      "Epoch 14/30\n",
      " - 7s - loss: 14.3693 - val_loss: 14.5385\n",
      "Epoch 15/30\n",
      " - 6s - loss: 14.3693 - val_loss: 14.5385\n",
      "Epoch 16/30\n",
      " - 9s - loss: 14.3693 - val_loss: 14.5385\n",
      "Epoch 17/30\n",
      " - 7s - loss: 14.3693 - val_loss: 14.5385\n",
      "Epoch 18/30\n",
      " - 7s - loss: 14.3693 - val_loss: 14.5385\n",
      "Epoch 19/30\n",
      " - 7s - loss: 14.3693 - val_loss: 14.5385\n",
      "Epoch 20/30\n",
      " - 7s - loss: 14.3693 - val_loss: 14.5385\n",
      "Epoch 21/30\n",
      " - 7s - loss: 14.3693 - val_loss: 14.5385\n",
      "Epoch 22/30\n",
      " - 7s - loss: 14.3693 - val_loss: 14.5385\n",
      "Epoch 23/30\n",
      " - 7s - loss: 14.3693 - val_loss: 14.5385\n",
      "Epoch 24/30\n",
      " - 7s - loss: 14.3693 - val_loss: 14.5385\n",
      "Epoch 25/30\n",
      " - 7s - loss: 14.3693 - val_loss: 14.5385\n",
      "Epoch 26/30\n",
      " - 7s - loss: 14.3693 - val_loss: 14.5385\n",
      "Epoch 27/30\n",
      " - 7s - loss: 14.3693 - val_loss: 14.5385\n",
      "Epoch 28/30\n",
      " - 7s - loss: 14.3693 - val_loss: 14.5385\n",
      "Epoch 29/30\n",
      " - 7s - loss: 14.3693 - val_loss: 14.5385\n",
      "Epoch 30/30\n",
      " - 7s - loss: 14.3693 - val_loss: 14.5385\n"
     ]
    },
    {
     "data": {
      "text/plain": [
       "<keras.callbacks.History at 0x1fc6f7912e8>"
      ]
     },
     "execution_count": 30,
     "metadata": {},
     "output_type": "execute_result"
    }
   ],
   "source": [
    "model.fit(encoded_train, y_train, batch_size=4, epochs=30, shuffle=True, verbose=2, validation_data=(encoded_test, y_test))"
   ]
  },
  {
   "cell_type": "markdown",
   "metadata": {},
   "source": [
    "# Adding a sparsity constraint on the encoded representations"
   ]
  },
  {
   "cell_type": "code",
   "execution_count": 33,
   "metadata": {},
   "outputs": [],
   "source": [
    "from keras import regularizers\n",
    "\n",
    "encoding_dim = 32\n",
    "input_img = Input(shape=(784,))\n",
    "\n",
    "# add a Dense layer with a L1 activity regularizer\n",
    "\n",
    "encoded = Dense(encoding_dim, activation='relu', activity_regularizer=regularizers.l1(10e-5))(input_img)\n",
    "\n",
    "decoded = Dense(784, activation='sigmoid')(encoded)\n",
    "\n",
    "autoencoder = Model(input_img, decoded)"
   ]
  },
  {
   "cell_type": "markdown",
   "metadata": {},
   "source": [
    "# Deep Autoencoder"
   ]
  },
  {
   "cell_type": "code",
   "execution_count": 34,
   "metadata": {},
   "outputs": [
    {
     "name": "stdout",
     "output_type": "stream",
     "text": [
      "Train on 6000 samples, validate on 500 samples\n",
      "Epoch 1/100\n",
      "6000/6000 [==============================] - 2s 266us/step - loss: 0.6864 - val_loss: 0.6659\n",
      "Epoch 2/100\n",
      "6000/6000 [==============================] - 1s 113us/step - loss: 0.4445 - val_loss: 0.2855\n",
      "Epoch 3/100\n",
      "6000/6000 [==============================] - 1s 109us/step - loss: 0.2848 - val_loss: 0.2785\n",
      "Epoch 4/100\n",
      "6000/6000 [==============================] - 1s 103us/step - loss: 0.2807 - val_loss: 0.2732\n",
      "Epoch 5/100\n",
      "6000/6000 [==============================] - 0s 80us/step - loss: 0.2785 - val_loss: 0.2731\n",
      "Epoch 6/100\n",
      "6000/6000 [==============================] - 1s 96us/step - loss: 0.2769 - val_loss: 0.2717\n",
      "Epoch 7/100\n",
      "6000/6000 [==============================] - 0s 82us/step - loss: 0.2761 - val_loss: 0.2723\n",
      "Epoch 8/100\n",
      "6000/6000 [==============================] - 1s 94us/step - loss: 0.2750 - val_loss: 0.2690\n",
      "Epoch 9/100\n",
      "6000/6000 [==============================] - 1s 104us/step - loss: 0.2741 - val_loss: 0.2662\n",
      "Epoch 10/100\n",
      "6000/6000 [==============================] - 1s 87us/step - loss: 0.2728 - val_loss: 0.2672\n",
      "Epoch 11/100\n",
      "6000/6000 [==============================] - 1s 86us/step - loss: 0.2715 - val_loss: 0.2671\n",
      "Epoch 12/100\n",
      "6000/6000 [==============================] - 1s 100us/step - loss: 0.2700 - val_loss: 0.2642\n",
      "Epoch 13/100\n",
      "6000/6000 [==============================] - 1s 101us/step - loss: 0.2684 - val_loss: 0.2636\n",
      "Epoch 14/100\n",
      "6000/6000 [==============================] - 1s 95us/step - loss: 0.2660 - val_loss: 0.2612\n",
      "Epoch 15/100\n",
      "6000/6000 [==============================] - 1s 116us/step - loss: 0.2629 - val_loss: 0.2570\n",
      "Epoch 16/100\n",
      "6000/6000 [==============================] - 1s 107us/step - loss: 0.2591 - val_loss: 0.2548\n",
      "Epoch 17/100\n",
      "6000/6000 [==============================] - 1s 100us/step - loss: 0.2554 - val_loss: 0.2531\n",
      "Epoch 18/100\n",
      "6000/6000 [==============================] - 1s 126us/step - loss: 0.2526 - val_loss: 0.2494\n",
      "Epoch 19/100\n",
      "6000/6000 [==============================] - 1s 86us/step - loss: 0.2510 - val_loss: 0.2456\n",
      "Epoch 20/100\n",
      "6000/6000 [==============================] - 1s 90us/step - loss: 0.2483 - val_loss: 0.2462\n",
      "Epoch 21/100\n",
      "6000/6000 [==============================] - 1s 87us/step - loss: 0.2481 - val_loss: 0.2454\n",
      "Epoch 22/100\n",
      "6000/6000 [==============================] - 1s 89us/step - loss: 0.2445 - val_loss: 0.2416\n",
      "Epoch 23/100\n",
      "6000/6000 [==============================] - 1s 121us/step - loss: 0.2424 - val_loss: 0.2382\n",
      "Epoch 24/100\n",
      "6000/6000 [==============================] - 1s 85us/step - loss: 0.2394 - val_loss: 0.2352\n",
      "Epoch 25/100\n",
      "6000/6000 [==============================] - 1s 92us/step - loss: 0.2352 - val_loss: 0.2326\n",
      "Epoch 26/100\n",
      "6000/6000 [==============================] - 1s 95us/step - loss: 0.2316 - val_loss: 0.2288\n",
      "Epoch 27/100\n",
      "6000/6000 [==============================] - 1s 110us/step - loss: 0.2276 - val_loss: 0.2244\n",
      "Epoch 28/100\n",
      "6000/6000 [==============================] - 1s 88us/step - loss: 0.2237 - val_loss: 0.2184\n",
      "Epoch 29/100\n",
      "6000/6000 [==============================] - 1s 91us/step - loss: 0.2193 - val_loss: 0.2190\n",
      "Epoch 30/100\n",
      "6000/6000 [==============================] - 1s 99us/step - loss: 0.2176 - val_loss: 0.2155\n",
      "Epoch 31/100\n",
      "6000/6000 [==============================] - 1s 100us/step - loss: 0.2141 - val_loss: 0.2129\n",
      "Epoch 32/100\n",
      "6000/6000 [==============================] - 1s 87us/step - loss: 0.2130 - val_loss: 0.2125\n",
      "Epoch 33/100\n",
      "6000/6000 [==============================] - 1s 93us/step - loss: 0.2093 - val_loss: 0.2085\n",
      "Epoch 34/100\n",
      "6000/6000 [==============================] - 1s 91us/step - loss: 0.2069 - val_loss: 0.2085\n",
      "Epoch 35/100\n",
      "6000/6000 [==============================] - 1s 87us/step - loss: 0.2054 - val_loss: 0.2036\n",
      "Epoch 36/100\n",
      "6000/6000 [==============================] - 1s 110us/step - loss: 0.2023 - val_loss: 0.2019\n",
      "Epoch 37/100\n",
      "6000/6000 [==============================] - 1s 90us/step - loss: 0.2003 - val_loss: 0.2006\n",
      "Epoch 38/100\n",
      "6000/6000 [==============================] - 1s 105us/step - loss: 0.1963 - val_loss: 0.1986\n",
      "Epoch 39/100\n",
      "6000/6000 [==============================] - 1s 116us/step - loss: 0.1955 - val_loss: 0.1972\n",
      "Epoch 40/100\n",
      "6000/6000 [==============================] - 1s 113us/step - loss: 0.1951 - val_loss: 0.1947\n",
      "Epoch 41/100\n",
      "6000/6000 [==============================] - 0s 82us/step - loss: 0.1905 - val_loss: 0.1926\n",
      "Epoch 42/100\n",
      "6000/6000 [==============================] - 1s 92us/step - loss: 0.1909 - val_loss: 0.1918\n",
      "Epoch 43/100\n",
      "6000/6000 [==============================] - 0s 79us/step - loss: 0.1866 - val_loss: 0.1900\n",
      "Epoch 44/100\n",
      "6000/6000 [==============================] - 1s 89us/step - loss: 0.1860 - val_loss: 0.1878\n",
      "Epoch 45/100\n",
      "6000/6000 [==============================] - 1s 89us/step - loss: 0.1841 - val_loss: 0.1857\n",
      "Epoch 46/100\n",
      "6000/6000 [==============================] - 0s 83us/step - loss: 0.1814 - val_loss: 0.1874\n",
      "Epoch 47/100\n",
      "6000/6000 [==============================] - 1s 94us/step - loss: 0.1807 - val_loss: 0.1829\n",
      "Epoch 48/100\n",
      "6000/6000 [==============================] - 0s 83us/step - loss: 0.1786 - val_loss: 0.1821\n",
      "Epoch 49/100\n",
      "6000/6000 [==============================] - 0s 83us/step - loss: 0.1778 - val_loss: 0.1824\n",
      "Epoch 50/100\n",
      "6000/6000 [==============================] - 1s 85us/step - loss: 0.1765 - val_loss: 0.1803\n",
      "Epoch 51/100\n",
      "6000/6000 [==============================] - 1s 103us/step - loss: 0.1767 - val_loss: 0.1803\n",
      "Epoch 52/100\n",
      "6000/6000 [==============================] - 1s 91us/step - loss: 0.1742 - val_loss: 0.1790\n",
      "Epoch 53/100\n",
      "6000/6000 [==============================] - 1s 90us/step - loss: 0.1726 - val_loss: 0.1811\n",
      "Epoch 54/100\n",
      "6000/6000 [==============================] - 1s 91us/step - loss: 0.1725 - val_loss: 0.1757\n",
      "Epoch 55/100\n",
      "6000/6000 [==============================] - 1s 91us/step - loss: 0.1707 - val_loss: 0.1745\n",
      "Epoch 56/100\n",
      "6000/6000 [==============================] - 1s 101us/step - loss: 0.1694 - val_loss: 0.1734\n",
      "Epoch 57/100\n",
      "6000/6000 [==============================] - 1s 90us/step - loss: 0.1698 - val_loss: 0.1727\n",
      "Epoch 58/100\n",
      "6000/6000 [==============================] - 1s 90us/step - loss: 0.1678 - val_loss: 0.1717\n",
      "Epoch 59/100\n",
      "6000/6000 [==============================] - 1s 88us/step - loss: 0.1669 - val_loss: 0.1726\n",
      "Epoch 60/100\n",
      "6000/6000 [==============================] - 1s 89us/step - loss: 0.1661 - val_loss: 0.1720\n",
      "Epoch 61/100\n",
      "6000/6000 [==============================] - 1s 93us/step - loss: 0.1653 - val_loss: 0.1687\n",
      "Epoch 62/100\n",
      "6000/6000 [==============================] - 1s 91us/step - loss: 0.1638 - val_loss: 0.1688\n",
      "Epoch 63/100\n",
      "6000/6000 [==============================] - 1s 93us/step - loss: 0.1641 - val_loss: 0.1693\n",
      "Epoch 64/100\n",
      "6000/6000 [==============================] - 1s 95us/step - loss: 0.1625 - val_loss: 0.1663\n",
      "Epoch 65/100\n",
      "6000/6000 [==============================] - 1s 92us/step - loss: 0.1614 - val_loss: 0.1657\n",
      "Epoch 66/100\n",
      "6000/6000 [==============================] - 1s 111us/step - loss: 0.1599 - val_loss: 0.1690\n",
      "Epoch 67/100\n",
      "6000/6000 [==============================] - 1s 111us/step - loss: 0.1589 - val_loss: 0.1671\n",
      "Epoch 68/100\n",
      "6000/6000 [==============================] - 1s 103us/step - loss: 0.1581 - val_loss: 0.1627\n",
      "Epoch 69/100\n",
      "6000/6000 [==============================] - 1s 112us/step - loss: 0.1591 - val_loss: 0.1614\n",
      "Epoch 70/100\n",
      "6000/6000 [==============================] - 1s 97us/step - loss: 0.1557 - val_loss: 0.1620\n",
      "Epoch 71/100\n",
      "6000/6000 [==============================] - 1s 107us/step - loss: 0.1559 - val_loss: 0.1626\n",
      "Epoch 72/100\n",
      "6000/6000 [==============================] - 1s 99us/step - loss: 0.1550 - val_loss: 0.1614\n",
      "Epoch 73/100\n",
      "6000/6000 [==============================] - 1s 92us/step - loss: 0.1549 - val_loss: 0.1639\n",
      "Epoch 74/100\n",
      "6000/6000 [==============================] - 1s 98us/step - loss: 0.1532 - val_loss: 0.1624\n",
      "Epoch 75/100\n",
      "6000/6000 [==============================] - 1s 99us/step - loss: 0.1541 - val_loss: 0.1630\n",
      "Epoch 76/100\n",
      "6000/6000 [==============================] - 1s 90us/step - loss: 0.1528 - val_loss: 0.1588\n",
      "Epoch 77/100\n",
      "6000/6000 [==============================] - 1s 92us/step - loss: 0.1507 - val_loss: 0.1577\n",
      "Epoch 78/100\n",
      "6000/6000 [==============================] - 1s 88us/step - loss: 0.1508 - val_loss: 0.1605\n",
      "Epoch 79/100\n",
      "6000/6000 [==============================] - 0s 79us/step - loss: 0.1500 - val_loss: 0.1582\n",
      "Epoch 80/100\n",
      "6000/6000 [==============================] - 1s 86us/step - loss: 0.1492 - val_loss: 0.1585\n",
      "Epoch 81/100\n",
      "6000/6000 [==============================] - 0s 82us/step - loss: 0.1500 - val_loss: 0.1570\n",
      "Epoch 82/100\n",
      "6000/6000 [==============================] - 1s 88us/step - loss: 0.1496 - val_loss: 0.1597\n",
      "Epoch 83/100\n",
      "6000/6000 [==============================] - 1s 88us/step - loss: 0.1471 - val_loss: 0.1558\n",
      "Epoch 84/100\n",
      "6000/6000 [==============================] - 0s 83us/step - loss: 0.1472 - val_loss: 0.1517\n",
      "Epoch 85/100\n",
      "6000/6000 [==============================] - 1s 88us/step - loss: 0.1455 - val_loss: 0.1521\n",
      "Epoch 86/100\n",
      "6000/6000 [==============================] - 1s 87us/step - loss: 0.1457 - val_loss: 0.1551\n",
      "Epoch 87/100\n",
      "6000/6000 [==============================] - 1s 87us/step - loss: 0.1456 - val_loss: 0.1529\n",
      "Epoch 88/100\n",
      "6000/6000 [==============================] - 1s 86us/step - loss: 0.1448 - val_loss: 0.1516\n",
      "Epoch 89/100\n",
      "6000/6000 [==============================] - 1s 86us/step - loss: 0.1433 - val_loss: 0.1487\n",
      "Epoch 90/100\n",
      "6000/6000 [==============================] - 1s 87us/step - loss: 0.1415 - val_loss: 0.1491\n",
      "Epoch 91/100\n",
      "6000/6000 [==============================] - 1s 87us/step - loss: 0.1438 - val_loss: 0.1507\n",
      "Epoch 92/100\n",
      "6000/6000 [==============================] - 1s 88us/step - loss: 0.1414 - val_loss: 0.1484\n",
      "Epoch 93/100\n",
      "6000/6000 [==============================] - 1s 89us/step - loss: 0.1407 - val_loss: 0.1501\n",
      "Epoch 94/100\n",
      "6000/6000 [==============================] - 1s 89us/step - loss: 0.1414 - val_loss: 0.1463\n",
      "Epoch 95/100\n",
      "6000/6000 [==============================] - 1s 92us/step - loss: 0.1388 - val_loss: 0.1472\n",
      "Epoch 96/100\n",
      "6000/6000 [==============================] - 1s 104us/step - loss: 0.1389 - val_loss: 0.1491\n",
      "Epoch 97/100\n",
      "6000/6000 [==============================] - 1s 87us/step - loss: 0.1405 - val_loss: 0.1443\n",
      "Epoch 98/100\n",
      "6000/6000 [==============================] - 1s 88us/step - loss: 0.1362 - val_loss: 0.1466\n",
      "Epoch 99/100\n",
      "6000/6000 [==============================] - 0s 82us/step - loss: 0.1374 - val_loss: 0.1473\n",
      "Epoch 100/100\n",
      "6000/6000 [==============================] - 1s 86us/step - loss: 0.1372 - val_loss: 0.1451\n"
     ]
    },
    {
     "data": {
      "text/plain": [
       "<keras.callbacks.History at 0x1fc6f259438>"
      ]
     },
     "execution_count": 34,
     "metadata": {},
     "output_type": "execute_result"
    }
   ],
   "source": [
    "input_img = Input(shape=(784,))\n",
    "\n",
    "encoded = Dense(128, activation='relu')(input_img)\n",
    "encoded = Dense(64, activation='relu')(encoded)\n",
    "encoded = Dense(32, activation='relu')(encoded)\n",
    "\n",
    "decoded = Dense(64, activation='relu')(encoded)\n",
    "decoded = Dense(128, activation='relu')(decoded)\n",
    "decoded = Dense(784, activation='sigmoid')(decoded)\n",
    "\n",
    "autoencoder = Model(input_img, decoded)\n",
    "\n",
    "encoder = Model(input_img, encoded)\n",
    "\n",
    "autoencoder.compile(optimizer='adadelta', loss='binary_crossentropy')\n",
    "\n",
    "autoencoder.fit(x_train_scaled, x_train_scaled,\n",
    "                epochs=100,\n",
    "                batch_size=256,\n",
    "                shuffle=True,\n",
    "                validation_data=(x_test_scaled, x_test_scaled))"
   ]
  },
  {
   "cell_type": "code",
   "execution_count": 35,
   "metadata": {},
   "outputs": [],
   "source": [
    "encoded_train = encoder.predict(x_train_scaled)\n",
    "encoded_test = encoder.predict(x_test_scaled)"
   ]
  },
  {
   "cell_type": "code",
   "execution_count": 36,
   "metadata": {},
   "outputs": [
    {
     "name": "stdout",
     "output_type": "stream",
     "text": [
      "Train on 6000 samples, validate on 500 samples\n",
      "Epoch 1/30\n",
      " - 7s - loss: 14.3693 - val_loss: 14.5385\n",
      "Epoch 2/30\n",
      " - 8s - loss: 14.3693 - val_loss: 14.5385\n",
      "Epoch 3/30\n",
      " - 8s - loss: 14.3693 - val_loss: 14.5385\n",
      "Epoch 4/30\n",
      " - 10s - loss: 14.3693 - val_loss: 14.5385\n",
      "Epoch 5/30\n",
      " - 7s - loss: 14.3693 - val_loss: 14.5385\n",
      "Epoch 6/30\n",
      " - 9s - loss: 14.3693 - val_loss: 14.5385\n",
      "Epoch 7/30\n",
      " - 7s - loss: 14.3693 - val_loss: 14.5385\n",
      "Epoch 8/30\n",
      " - 7s - loss: 14.3693 - val_loss: 14.5385\n",
      "Epoch 9/30\n",
      " - 8s - loss: 14.3693 - val_loss: 14.5385\n",
      "Epoch 10/30\n",
      " - 8s - loss: 14.3693 - val_loss: 14.5385\n",
      "Epoch 11/30\n",
      " - 7s - loss: 14.3693 - val_loss: 14.5385\n",
      "Epoch 12/30\n",
      " - 7s - loss: 14.3693 - val_loss: 14.5385\n",
      "Epoch 13/30\n",
      " - 7s - loss: 14.3693 - val_loss: 14.5385\n",
      "Epoch 14/30\n",
      " - 7s - loss: 14.3693 - val_loss: 14.5385\n",
      "Epoch 15/30\n",
      " - 8s - loss: 14.3693 - val_loss: 14.5385\n",
      "Epoch 16/30\n",
      " - 7s - loss: 14.3693 - val_loss: 14.5385\n",
      "Epoch 17/30\n",
      " - 7s - loss: 14.3693 - val_loss: 14.5385\n",
      "Epoch 18/30\n",
      " - 7s - loss: 14.3693 - val_loss: 14.5385\n",
      "Epoch 19/30\n",
      " - 7s - loss: 14.3693 - val_loss: 14.5385\n",
      "Epoch 20/30\n",
      " - 7s - loss: 14.3693 - val_loss: 14.5385\n",
      "Epoch 21/30\n",
      " - 7s - loss: 14.3693 - val_loss: 14.5385\n",
      "Epoch 22/30\n",
      " - 7s - loss: 14.3693 - val_loss: 14.5385\n",
      "Epoch 23/30\n",
      " - 7s - loss: 14.3693 - val_loss: 14.5385\n",
      "Epoch 24/30\n",
      " - 8s - loss: 14.3693 - val_loss: 14.5385\n",
      "Epoch 25/30\n",
      " - 9s - loss: 14.3693 - val_loss: 14.5385\n",
      "Epoch 26/30\n",
      " - 8s - loss: 14.3693 - val_loss: 14.5385\n",
      "Epoch 27/30\n",
      " - 8s - loss: 14.3693 - val_loss: 14.5385\n",
      "Epoch 28/30\n",
      " - 11s - loss: 14.3693 - val_loss: 14.5385\n",
      "Epoch 29/30\n",
      " - 9s - loss: 14.3693 - val_loss: 14.5385\n",
      "Epoch 30/30\n",
      " - 8s - loss: 14.3693 - val_loss: 14.5385\n"
     ]
    },
    {
     "data": {
      "text/plain": [
       "<keras.callbacks.History at 0x1fc6f0199b0>"
      ]
     },
     "execution_count": 36,
     "metadata": {},
     "output_type": "execute_result"
    }
   ],
   "source": [
    "model.fit(encoded_train, y_train, batch_size=4, epochs=30, shuffle=True, verbose=2, validation_data=(encoded_test, y_test))"
   ]
  },
  {
   "cell_type": "code",
   "execution_count": 21,
   "metadata": {},
   "outputs": [
    {
     "data": {
      "image/png": "[encoded data removed]",
      "text/plain": [
       "<Figure size 1440x288 with 20 Axes>"
      ]
     },
     "metadata": {
      "needs_background": "light"
     },
     "output_type": "display_data"
    }
   ],
   "source": [
    "# use Matplotlib\n",
    "import matplotlib.pyplot as plt\n",
    "\n",
    "n = 10  # how many digits we will display\n",
    "plt.figure(figsize=(20, 4))\n",
    "for i in range(n):\n",
    "    # display original\n",
    "    ax = plt.subplot(2, n, i + 1)\n",
    "    plt.imshow(x_test_scaled[i].reshape(28, 28))\n",
    "    plt.gray()\n",
    "#    ax.get_xaxis().set_visible(False)\n",
    "#    ax.get_yaxis().set_visible(False)\n",
    "\n",
    "    # display reconstruction\n",
    "    ax = plt.subplot(2, n, i + 1 + n)\n",
    "    plt.imshow(decoded_tests[i].reshape(28, 28))\n",
    "    plt.gray()\n",
    "#    ax.get_xaxis().set_visible(False)\n",
    "#    ax.get_yaxis().set_visible(False)\n",
    "plt.show()"
   ]
  }
 ],
 "metadata": {
  "kernelspec": {
   "display_name": "Python 3",
   "language": "python",
   "name": "python3"
  },
  "language_info": {
   "codemirror_mode": {
    "name": "ipython",
    "version": 3
   },
   "file_extension": ".py",
   "mimetype": "text/x-python",
   "name": "python",
   "nbconvert_exporter": "python",
   "pygments_lexer": "ipython3",
   "version": "3.7.3"
  }
 },
 "nbformat": 4,
 "nbformat_minor": 2
}
