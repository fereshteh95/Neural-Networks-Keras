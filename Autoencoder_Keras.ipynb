{
 "cells": [
  {
   "cell_type": "code",
   "execution_count": 1,
   "metadata": {},
   "outputs": [],
   "source": [
    "from tensorflow.keras.datasets import mnist"
   ]
  },
  {
   "cell_type": "code",
   "execution_count": 2,
   "metadata": {},
   "outputs": [],
   "source": [
    "(x_train, y_train),(x_test, y_test) = mnist.load_data()"
   ]
  },
  {
   "cell_type": "code",
   "execution_count": 3,
   "metadata": {},
   "outputs": [],
   "source": [
    "n = 28*28    #feature space dimension \n",
    "N_train = len(x_train)\n",
    "N_test = len(x_test)\n",
    "\n",
    "x_test = x_test.reshape((N_test, n))\n",
    "x_train = x_train.reshape((N_train, n))"
   ]
  },
  {
   "cell_type": "code",
   "execution_count": 4,
   "metadata": {},
   "outputs": [],
   "source": [
    "x_train = x_train[0:6000][:]\n",
    "x_test = x_test[0:500][:]"
   ]
  },
  {
   "cell_type": "code",
   "execution_count": 5,
   "metadata": {},
   "outputs": [],
   "source": [
    "x_train_scaled = x_train/225\n",
    "x_test_scaled = x_test/225"
   ]
  },
  {
   "cell_type": "code",
   "execution_count": 6,
   "metadata": {},
   "outputs": [],
   "source": [
    "y_train = y_train[0:6000]\n",
    "y_test = y_test[0:500]"
   ]
  },
  {
   "cell_type": "markdown",
   "metadata": {},
   "source": [
    "# Simple One Layer Autoencoder"
   ]
  },
  {
   "cell_type": "code",
   "execution_count": 7,
   "metadata": {},
   "outputs": [],
   "source": [
    "from tensorflow.keras.layers import Input, Dense\n",
    "from tensorflow.keras.models import Model"
   ]
  },
  {
   "cell_type": "markdown",
   "metadata": {},
   "source": [
    "Size of our encoded representation"
   ]
  },
  {
   "cell_type": "code",
   "execution_count": 8,
   "metadata": {},
   "outputs": [],
   "source": [
    "encoding_dim = 32"
   ]
  },
  {
   "cell_type": "markdown",
   "metadata": {},
   "source": [
    "Input Placeholder"
   ]
  },
  {
   "cell_type": "code",
   "execution_count": 9,
   "metadata": {},
   "outputs": [],
   "source": [
    "input_img = Input(shape=(784,))"
   ]
  },
  {
   "cell_type": "markdown",
   "metadata": {},
   "source": [
    "The encoded representation of the input"
   ]
  },
  {
   "cell_type": "code",
   "execution_count": 10,
   "metadata": {
    "scrolled": true
   },
   "outputs": [],
   "source": [
    "encoded = Dense(encoding_dim, activation='relu')(input_img)"
   ]
  },
  {
   "cell_type": "markdown",
   "metadata": {},
   "source": [
    "Reconstruction of the input"
   ]
  },
  {
   "cell_type": "code",
   "execution_count": 11,
   "metadata": {},
   "outputs": [],
   "source": [
    "decoded = Dense(784,activation='sigmoid')(encoded)"
   ]
  },
  {
   "cell_type": "markdown",
   "metadata": {},
   "source": [
    "Autoencoder Model"
   ]
  },
  {
   "cell_type": "code",
   "execution_count": 12,
   "metadata": {},
   "outputs": [],
   "source": [
    "autoencoder = Model(input_img, decoded)"
   ]
  },
  {
   "cell_type": "markdown",
   "metadata": {},
   "source": [
    "Input to encoded dimension model"
   ]
  },
  {
   "cell_type": "code",
   "execution_count": 13,
   "metadata": {},
   "outputs": [],
   "source": [
    "encoder = Model(input_img, encoded)"
   ]
  },
  {
   "cell_type": "markdown",
   "metadata": {},
   "source": [
    "encoded data to the input data model"
   ]
  },
  {
   "cell_type": "code",
   "execution_count": 14,
   "metadata": {},
   "outputs": [],
   "source": [
    "# Create a placeholder for an encoded input\n",
    "encoded_input = Input(shape=(encoding_dim,))\n",
    "# retrieve the last layer of the autoencoder model\n",
    "decoder_layer = autoencoder.layers[-1]\n",
    "#create the decoder model\n",
    "decoder = Model(encoded_input, decoder_layer(encoded_input))"
   ]
  },
  {
   "cell_type": "markdown",
   "metadata": {},
   "source": [
    "Training"
   ]
  },
  {
   "cell_type": "code",
   "execution_count": 15,
   "metadata": {
    "scrolled": true
   },
   "outputs": [],
   "source": [
    "autoencoder.compile(optimizer='adadelta', loss='binary_crossentropy')"
   ]
  },
  {
   "cell_type": "code",
   "execution_count": 16,
   "metadata": {},
   "outputs": [
    {
     "name": "stdout",
     "output_type": "stream",
     "text": [
      "Epoch 1/50\n",
      "24/24 - 0s - loss: 0.6945 - val_loss: 0.6943\n",
      "Epoch 2/50\n",
      "24/24 - 0s - loss: 0.6945 - val_loss: 0.6943\n",
      "Epoch 3/50\n",
      "24/24 - 0s - loss: 0.6945 - val_loss: 0.6943\n",
      "Epoch 4/50\n",
      "24/24 - 0s - loss: 0.6945 - val_loss: 0.6943\n",
      "Epoch 5/50\n",
      "24/24 - 0s - loss: 0.6944 - val_loss: 0.6942\n",
      "Epoch 6/50\n",
      "24/24 - 0s - loss: 0.6944 - val_loss: 0.6942\n",
      "Epoch 7/50\n",
      "24/24 - 0s - loss: 0.6944 - val_loss: 0.6942\n",
      "Epoch 8/50\n",
      "24/24 - 0s - loss: 0.6944 - val_loss: 0.6942\n",
      "Epoch 9/50\n",
      "24/24 - 0s - loss: 0.6943 - val_loss: 0.6941\n",
      "Epoch 10/50\n",
      "24/24 - 0s - loss: 0.6943 - val_loss: 0.6941\n",
      "Epoch 11/50\n",
      "24/24 - 0s - loss: 0.6943 - val_loss: 0.6941\n",
      "Epoch 12/50\n",
      "24/24 - 0s - loss: 0.6942 - val_loss: 0.6941\n",
      "Epoch 13/50\n",
      "24/24 - 0s - loss: 0.6942 - val_loss: 0.6940\n",
      "Epoch 14/50\n",
      "24/24 - 0s - loss: 0.6942 - val_loss: 0.6940\n",
      "Epoch 15/50\n",
      "24/24 - 0s - loss: 0.6942 - val_loss: 0.6940\n",
      "Epoch 16/50\n",
      "24/24 - 0s - loss: 0.6941 - val_loss: 0.6940\n",
      "Epoch 17/50\n",
      "24/24 - 0s - loss: 0.6941 - val_loss: 0.6939\n",
      "Epoch 18/50\n",
      "24/24 - 0s - loss: 0.6941 - val_loss: 0.6939\n",
      "Epoch 19/50\n",
      "24/24 - 0s - loss: 0.6941 - val_loss: 0.6939\n",
      "Epoch 20/50\n",
      "24/24 - 0s - loss: 0.6940 - val_loss: 0.6939\n",
      "Epoch 21/50\n",
      "24/24 - 0s - loss: 0.6940 - val_loss: 0.6938\n",
      "Epoch 22/50\n",
      "24/24 - 0s - loss: 0.6940 - val_loss: 0.6938\n",
      "Epoch 23/50\n",
      "24/24 - 0s - loss: 0.6940 - val_loss: 0.6938\n",
      "Epoch 24/50\n",
      "24/24 - 0s - loss: 0.6939 - val_loss: 0.6938\n",
      "Epoch 25/50\n",
      "24/24 - 0s - loss: 0.6939 - val_loss: 0.6937\n",
      "Epoch 26/50\n",
      "24/24 - 0s - loss: 0.6939 - val_loss: 0.6937\n",
      "Epoch 27/50\n",
      "24/24 - 0s - loss: 0.6938 - val_loss: 0.6937\n",
      "Epoch 28/50\n",
      "24/24 - 0s - loss: 0.6938 - val_loss: 0.6937\n",
      "Epoch 29/50\n",
      "24/24 - 0s - loss: 0.6938 - val_loss: 0.6936\n",
      "Epoch 30/50\n",
      "24/24 - 0s - loss: 0.6938 - val_loss: 0.6936\n",
      "Epoch 31/50\n",
      "24/24 - 0s - loss: 0.6937 - val_loss: 0.6936\n",
      "Epoch 32/50\n",
      "24/24 - 0s - loss: 0.6937 - val_loss: 0.6936\n",
      "Epoch 33/50\n",
      "24/24 - 0s - loss: 0.6937 - val_loss: 0.6935\n",
      "Epoch 34/50\n",
      "24/24 - 0s - loss: 0.6937 - val_loss: 0.6935\n",
      "Epoch 35/50\n",
      "24/24 - 0s - loss: 0.6936 - val_loss: 0.6935\n",
      "Epoch 36/50\n",
      "24/24 - 0s - loss: 0.6936 - val_loss: 0.6935\n",
      "Epoch 37/50\n",
      "24/24 - 0s - loss: 0.6936 - val_loss: 0.6934\n",
      "Epoch 38/50\n",
      "24/24 - 0s - loss: 0.6936 - val_loss: 0.6934\n",
      "Epoch 39/50\n",
      "24/24 - 0s - loss: 0.6935 - val_loss: 0.6934\n",
      "Epoch 40/50\n",
      "24/24 - 0s - loss: 0.6935 - val_loss: 0.6934\n",
      "Epoch 41/50\n",
      "24/24 - 0s - loss: 0.6935 - val_loss: 0.6934\n",
      "Epoch 42/50\n",
      "24/24 - 0s - loss: 0.6935 - val_loss: 0.6933\n",
      "Epoch 43/50\n",
      "24/24 - 0s - loss: 0.6934 - val_loss: 0.6933\n",
      "Epoch 44/50\n",
      "24/24 - 0s - loss: 0.6934 - val_loss: 0.6933\n",
      "Epoch 45/50\n",
      "24/24 - 0s - loss: 0.6934 - val_loss: 0.6933\n",
      "Epoch 46/50\n",
      "24/24 - 0s - loss: 0.6933 - val_loss: 0.6932\n",
      "Epoch 47/50\n",
      "24/24 - 0s - loss: 0.6933 - val_loss: 0.6932\n",
      "Epoch 48/50\n",
      "24/24 - 0s - loss: 0.6933 - val_loss: 0.6932\n",
      "Epoch 49/50\n",
      "24/24 - 0s - loss: 0.6933 - val_loss: 0.6932\n",
      "Epoch 50/50\n",
      "24/24 - 0s - loss: 0.6932 - val_loss: 0.6931\n"
     ]
    },
    {
     "data": {
      "text/plain": [
       "<tensorflow.python.keras.callbacks.History at 0x2905805ee88>"
      ]
     },
     "execution_count": 16,
     "metadata": {},
     "output_type": "execute_result"
    }
   ],
   "source": [
    "autoencoder.fit(x_train_scaled, x_train_scaled, epochs=50, batch_size=256, shuffle=True, validation_data=(x_test_scaled, x_test_scaled), verbose=2)"
   ]
  },
  {
   "cell_type": "code",
   "execution_count": 17,
   "metadata": {},
   "outputs": [],
   "source": [
    "encoded_train = encoder.predict(x_train_scaled)\n",
    "encoded_test = encoder.predict(x_test_scaled)\n",
    "decoded_tests = decoder.predict(encoded_test)"
   ]
  },
  {
   "cell_type": "code",
   "execution_count": 18,
   "metadata": {},
   "outputs": [],
   "source": [
    "from tensorflow.keras.models import Sequential\n",
    "from tensorflow.keras.layers import *\n",
    "from tensorflow.keras import optimizers\n",
    "from tensorflow.keras import losses\n",
    "from tensorflow.keras.utils import to_categorical"
   ]
  },
  {
   "cell_type": "code",
   "execution_count": 20,
   "metadata": {},
   "outputs": [],
   "source": [
    "model = Sequential()\n",
    "\n",
    "model.add(Dense(512, input_dim=encoding_dim, activation='relu'))\n",
    "model.add(Dense(512, activation='relu'))\n",
    "model.add(Dense(10, activation='softmax'))\n",
    "\n",
    "adam = optimizers.Adam(lr=0.001)\n",
    "model.compile(loss='sparse_categorical_crossentropy', optimizer=adam)"
   ]
  },
  {
   "cell_type": "code",
   "execution_count": 21,
   "metadata": {},
   "outputs": [
    {
     "name": "stdout",
     "output_type": "stream",
     "text": [
      "Epoch 1/30\n",
      "1500/1500 - 5s - loss: 1.0637 - val_loss: 0.8631\n",
      "Epoch 2/30\n",
      "1500/1500 - 5s - loss: 0.7323 - val_loss: 0.8567\n",
      "Epoch 3/30\n",
      "1500/1500 - 5s - loss: 0.6182 - val_loss: 0.7515\n",
      "Epoch 4/30\n",
      "1500/1500 - 5s - loss: 0.5353 - val_loss: 0.7058\n",
      "Epoch 5/30\n",
      "1500/1500 - 5s - loss: 0.4645 - val_loss: 0.6921\n",
      "Epoch 6/30\n",
      "1500/1500 - 5s - loss: 0.3929 - val_loss: 0.8015\n",
      "Epoch 7/30\n",
      "1500/1500 - 5s - loss: 0.3339 - val_loss: 0.8089\n",
      "Epoch 8/30\n",
      "1500/1500 - 5s - loss: 0.2776 - val_loss: 0.8046\n",
      "Epoch 9/30\n",
      "1500/1500 - 7s - loss: 0.2262 - val_loss: 0.7777\n",
      "Epoch 10/30\n",
      "1500/1500 - 5s - loss: 0.2014 - val_loss: 0.7542\n",
      "Epoch 11/30\n",
      "1500/1500 - 5s - loss: 0.1617 - val_loss: 0.7863\n",
      "Epoch 12/30\n",
      "1500/1500 - 5s - loss: 0.1349 - val_loss: 0.9835\n",
      "Epoch 13/30\n",
      "1500/1500 - 5s - loss: 0.1169 - val_loss: 0.9493\n",
      "Epoch 14/30\n",
      "1500/1500 - 5s - loss: 0.0966 - val_loss: 0.9439\n",
      "Epoch 15/30\n",
      "1500/1500 - 5s - loss: 0.1093 - val_loss: 0.9436\n",
      "Epoch 16/30\n",
      "1500/1500 - 5s - loss: 0.0762 - val_loss: 0.9802\n",
      "Epoch 17/30\n",
      "1500/1500 - 5s - loss: 0.0686 - val_loss: 1.0067\n",
      "Epoch 18/30\n",
      "1500/1500 - 5s - loss: 0.0828 - val_loss: 1.1304\n",
      "Epoch 19/30\n",
      "1500/1500 - 4s - loss: 0.0641 - val_loss: 1.0662\n",
      "Epoch 20/30\n",
      "1500/1500 - 5s - loss: 0.0488 - val_loss: 1.2870\n",
      "Epoch 21/30\n",
      "1500/1500 - 7s - loss: 0.0774 - val_loss: 1.1478\n",
      "Epoch 22/30\n",
      "1500/1500 - 7s - loss: 0.0459 - val_loss: 1.3664\n",
      "Epoch 23/30\n",
      "1500/1500 - 6s - loss: 0.0383 - val_loss: 1.3743\n",
      "Epoch 24/30\n",
      "1500/1500 - 7s - loss: 0.0754 - val_loss: 1.4251\n",
      "Epoch 25/30\n",
      "1500/1500 - 6s - loss: 0.0387 - val_loss: 1.3250\n",
      "Epoch 26/30\n",
      "1500/1500 - 6s - loss: 0.0382 - val_loss: 1.4153\n",
      "Epoch 27/30\n",
      "1500/1500 - 6s - loss: 0.0531 - val_loss: 1.3239\n",
      "Epoch 28/30\n",
      "1500/1500 - 7s - loss: 0.0345 - val_loss: 1.3348\n",
      "Epoch 29/30\n",
      "1500/1500 - 6s - loss: 0.0368 - val_loss: 1.4395\n",
      "Epoch 30/30\n",
      "1500/1500 - 6s - loss: 0.0408 - val_loss: 1.5411\n"
     ]
    },
    {
     "data": {
      "text/plain": [
       "<tensorflow.python.keras.callbacks.History at 0x29074b6f488>"
      ]
     },
     "execution_count": 21,
     "metadata": {},
     "output_type": "execute_result"
    }
   ],
   "source": [
    "model.fit(encoded_train, y_train, batch_size=4, epochs=30, shuffle=True, verbose=2, validation_data=(encoded_test, y_test))"
   ]
  },
  {
   "cell_type": "markdown",
   "metadata": {},
   "source": [
    "# Adding a sparsity constraint on the encoded representations"
   ]
  },
  {
   "cell_type": "code",
   "execution_count": 22,
   "metadata": {},
   "outputs": [],
   "source": [
    "from tensorflow.keras import regularizers\n",
    "\n",
    "encoding_dim = 32\n",
    "input_img = Input(shape=(784,))\n",
    "\n",
    "# add a Dense layer with a L1 activity regularizer\n",
    "\n",
    "encoded = Dense(encoding_dim, activation='relu', activity_regularizer=regularizers.l1(10e-5))(input_img)\n",
    "\n",
    "decoded = Dense(784, activation='sigmoid')(encoded)\n",
    "\n",
    "autoencoder = Model(input_img, decoded)"
   ]
  },
  {
   "cell_type": "markdown",
   "metadata": {},
   "source": [
    "# Deep Autoencoder"
   ]
  },
  {
   "cell_type": "code",
   "execution_count": 23,
   "metadata": {},
   "outputs": [
    {
     "name": "stdout",
     "output_type": "stream",
     "text": [
      "Epoch 1/100\n",
      "24/24 [==============================] - 0s 16ms/step - loss: 0.6930 - val_loss: 0.6930\n",
      "Epoch 2/100\n",
      "24/24 [==============================] - 0s 17ms/step - loss: 0.6930 - val_loss: 0.6930\n",
      "Epoch 3/100\n",
      "24/24 [==============================] - 0s 13ms/step - loss: 0.6930 - val_loss: 0.6930\n",
      "Epoch 4/100\n",
      "24/24 [==============================] - 0s 12ms/step - loss: 0.6930 - val_loss: 0.6930\n",
      "Epoch 5/100\n",
      "24/24 [==============================] - 0s 12ms/step - loss: 0.6930 - val_loss: 0.6930\n",
      "Epoch 6/100\n",
      "24/24 [==============================] - 0s 12ms/step - loss: 0.6930 - val_loss: 0.6930\n",
      "Epoch 7/100\n",
      "24/24 [==============================] - 0s 11ms/step - loss: 0.6930 - val_loss: 0.6930\n",
      "Epoch 8/100\n",
      "24/24 [==============================] - 0s 11ms/step - loss: 0.6930 - val_loss: 0.6930\n",
      "Epoch 9/100\n",
      "24/24 [==============================] - 0s 11ms/step - loss: 0.6930 - val_loss: 0.6930\n",
      "Epoch 10/100\n",
      "24/24 [==============================] - 0s 12ms/step - loss: 0.6930 - val_loss: 0.6930\n",
      "Epoch 11/100\n",
      "24/24 [==============================] - 0s 13ms/step - loss: 0.6930 - val_loss: 0.6929\n",
      "Epoch 12/100\n",
      "24/24 [==============================] - 0s 12ms/step - loss: 0.6930 - val_loss: 0.6929\n",
      "Epoch 13/100\n",
      "24/24 [==============================] - 0s 12ms/step - loss: 0.6930 - val_loss: 0.6929\n",
      "Epoch 14/100\n",
      "24/24 [==============================] - 0s 13ms/step - loss: 0.6930 - val_loss: 0.6929\n",
      "Epoch 15/100\n",
      "24/24 [==============================] - 0s 12ms/step - loss: 0.6930 - val_loss: 0.6929\n",
      "Epoch 16/100\n",
      "24/24 [==============================] - 0s 12ms/step - loss: 0.6929 - val_loss: 0.6929\n",
      "Epoch 17/100\n",
      "24/24 [==============================] - 0s 11ms/step - loss: 0.6929 - val_loss: 0.6929\n",
      "Epoch 18/100\n",
      "24/24 [==============================] - 0s 11ms/step - loss: 0.6929 - val_loss: 0.6929\n",
      "Epoch 19/100\n",
      "24/24 [==============================] - 0s 12ms/step - loss: 0.6929 - val_loss: 0.6929\n",
      "Epoch 20/100\n",
      "24/24 [==============================] - 0s 12ms/step - loss: 0.6929 - val_loss: 0.6929\n",
      "Epoch 21/100\n",
      "24/24 [==============================] - 0s 12ms/step - loss: 0.6929 - val_loss: 0.6929\n",
      "Epoch 22/100\n",
      "24/24 [==============================] - 0s 11ms/step - loss: 0.6929 - val_loss: 0.6929\n",
      "Epoch 23/100\n",
      "24/24 [==============================] - 0s 11ms/step - loss: 0.6929 - val_loss: 0.6929\n",
      "Epoch 24/100\n",
      "24/24 [==============================] - 0s 11ms/step - loss: 0.6929 - val_loss: 0.6929\n",
      "Epoch 25/100\n",
      "24/24 [==============================] - 0s 12ms/step - loss: 0.6929 - val_loss: 0.6929\n",
      "Epoch 26/100\n",
      "24/24 [==============================] - 0s 13ms/step - loss: 0.6929 - val_loss: 0.6928\n",
      "Epoch 27/100\n",
      "24/24 [==============================] - 0s 12ms/step - loss: 0.6929 - val_loss: 0.6928\n",
      "Epoch 28/100\n",
      "24/24 [==============================] - 0s 11ms/step - loss: 0.6929 - val_loss: 0.6928\n",
      "Epoch 29/100\n",
      "24/24 [==============================] - 0s 12ms/step - loss: 0.6929 - val_loss: 0.6928\n",
      "Epoch 30/100\n",
      "24/24 [==============================] - 0s 12ms/step - loss: 0.6928 - val_loss: 0.6928\n",
      "Epoch 31/100\n",
      "24/24 [==============================] - 0s 12ms/step - loss: 0.6928 - val_loss: 0.6928\n",
      "Epoch 32/100\n",
      "24/24 [==============================] - 0s 11ms/step - loss: 0.6928 - val_loss: 0.6928\n",
      "Epoch 33/100\n",
      "24/24 [==============================] - 0s 11ms/step - loss: 0.6928 - val_loss: 0.6928\n",
      "Epoch 34/100\n",
      "24/24 [==============================] - 0s 12ms/step - loss: 0.6928 - val_loss: 0.6928\n",
      "Epoch 35/100\n",
      "24/24 [==============================] - 0s 13ms/step - loss: 0.6928 - val_loss: 0.6928\n",
      "Epoch 36/100\n",
      "24/24 [==============================] - 0s 12ms/step - loss: 0.6928 - val_loss: 0.6928\n",
      "Epoch 37/100\n",
      "24/24 [==============================] - 0s 12ms/step - loss: 0.6928 - val_loss: 0.6928\n",
      "Epoch 38/100\n",
      "24/24 [==============================] - 0s 12ms/step - loss: 0.6928 - val_loss: 0.6928\n",
      "Epoch 39/100\n",
      "24/24 [==============================] - 0s 11ms/step - loss: 0.6928 - val_loss: 0.6928\n",
      "Epoch 40/100\n",
      "24/24 [==============================] - 0s 11ms/step - loss: 0.6928 - val_loss: 0.6927\n",
      "Epoch 41/100\n",
      "24/24 [==============================] - 0s 11ms/step - loss: 0.6928 - val_loss: 0.6927\n",
      "Epoch 42/100\n",
      "24/24 [==============================] - 0s 11ms/step - loss: 0.6928 - val_loss: 0.6927\n",
      "Epoch 43/100\n",
      "24/24 [==============================] - 0s 11ms/step - loss: 0.6928 - val_loss: 0.6927\n",
      "Epoch 44/100\n",
      "24/24 [==============================] - 0s 11ms/step - loss: 0.6927 - val_loss: 0.6927\n",
      "Epoch 45/100\n",
      "24/24 [==============================] - 0s 11ms/step - loss: 0.6927 - val_loss: 0.6927\n",
      "Epoch 46/100\n",
      "24/24 [==============================] - 0s 11ms/step - loss: 0.6927 - val_loss: 0.6927\n",
      "Epoch 47/100\n",
      "24/24 [==============================] - 0s 13ms/step - loss: 0.6927 - val_loss: 0.6927\n",
      "Epoch 48/100\n",
      "24/24 [==============================] - 0s 12ms/step - loss: 0.6927 - val_loss: 0.6927\n",
      "Epoch 49/100\n",
      "24/24 [==============================] - 0s 12ms/step - loss: 0.6927 - val_loss: 0.6927\n",
      "Epoch 50/100\n",
      "24/24 [==============================] - 0s 12ms/step - loss: 0.6927 - val_loss: 0.6927\n",
      "Epoch 51/100\n",
      "24/24 [==============================] - 0s 12ms/step - loss: 0.6927 - val_loss: 0.6927\n",
      "Epoch 52/100\n",
      "24/24 [==============================] - 0s 12ms/step - loss: 0.6927 - val_loss: 0.6927\n",
      "Epoch 53/100\n",
      "24/24 [==============================] - 0s 11ms/step - loss: 0.6927 - val_loss: 0.6927\n",
      "Epoch 54/100\n",
      "24/24 [==============================] - 0s 14ms/step - loss: 0.6927 - val_loss: 0.6927\n",
      "Epoch 55/100\n",
      "24/24 [==============================] - 0s 11ms/step - loss: 0.6927 - val_loss: 0.6926\n",
      "Epoch 56/100\n",
      "24/24 [==============================] - 0s 11ms/step - loss: 0.6927 - val_loss: 0.6926\n",
      "Epoch 57/100\n",
      "24/24 [==============================] - 0s 12ms/step - loss: 0.6927 - val_loss: 0.6926\n",
      "Epoch 58/100\n",
      "24/24 [==============================] - 0s 11ms/step - loss: 0.6927 - val_loss: 0.6926\n",
      "Epoch 59/100\n",
      "24/24 [==============================] - 0s 11ms/step - loss: 0.6926 - val_loss: 0.6926\n",
      "Epoch 60/100\n",
      "24/24 [==============================] - 0s 17ms/step - loss: 0.6926 - val_loss: 0.6926\n",
      "Epoch 61/100\n",
      "24/24 [==============================] - 0s 13ms/step - loss: 0.6926 - val_loss: 0.6926\n",
      "Epoch 62/100\n",
      "24/24 [==============================] - 0s 12ms/step - loss: 0.6926 - val_loss: 0.6926\n",
      "Epoch 63/100\n",
      "24/24 [==============================] - 0s 17ms/step - loss: 0.6926 - val_loss: 0.6926\n",
      "Epoch 64/100\n",
      "24/24 [==============================] - 0s 13ms/step - loss: 0.6926 - val_loss: 0.6926\n",
      "Epoch 65/100\n",
      "24/24 [==============================] - 0s 12ms/step - loss: 0.6926 - val_loss: 0.6926\n",
      "Epoch 66/100\n",
      "24/24 [==============================] - 0s 13ms/step - loss: 0.6926 - val_loss: 0.6926\n",
      "Epoch 67/100\n",
      "24/24 [==============================] - 0s 15ms/step - loss: 0.6926 - val_loss: 0.6926\n",
      "Epoch 68/100\n",
      "24/24 [==============================] - 0s 16ms/step - loss: 0.6926 - val_loss: 0.6926\n",
      "Epoch 69/100\n",
      "24/24 [==============================] - 0s 11ms/step - loss: 0.6926 - val_loss: 0.6925\n",
      "Epoch 70/100\n",
      "24/24 [==============================] - 0s 16ms/step - loss: 0.6926 - val_loss: 0.6925\n",
      "Epoch 71/100\n",
      "24/24 [==============================] - 0s 12ms/step - loss: 0.6926 - val_loss: 0.6925\n",
      "Epoch 72/100\n",
      "24/24 [==============================] - 0s 15ms/step - loss: 0.6926 - val_loss: 0.6925\n",
      "Epoch 73/100\n",
      "24/24 [==============================] - 0s 15ms/step - loss: 0.6925 - val_loss: 0.6925\n",
      "Epoch 74/100\n",
      "24/24 [==============================] - 0s 13ms/step - loss: 0.6925 - val_loss: 0.6925\n",
      "Epoch 75/100\n",
      "24/24 [==============================] - 0s 17ms/step - loss: 0.6925 - val_loss: 0.6925\n",
      "Epoch 76/100\n",
      "24/24 [==============================] - 0s 14ms/step - loss: 0.6925 - val_loss: 0.6925\n",
      "Epoch 77/100\n",
      "24/24 [==============================] - 0s 16ms/step - loss: 0.6925 - val_loss: 0.6925\n",
      "Epoch 78/100\n",
      "24/24 [==============================] - 0s 15ms/step - loss: 0.6925 - val_loss: 0.6925\n",
      "Epoch 79/100\n",
      "24/24 [==============================] - 0s 14ms/step - loss: 0.6925 - val_loss: 0.6925\n",
      "Epoch 80/100\n",
      "24/24 [==============================] - 0s 15ms/step - loss: 0.6925 - val_loss: 0.6925\n",
      "Epoch 81/100\n",
      "24/24 [==============================] - 0s 12ms/step - loss: 0.6925 - val_loss: 0.6925\n",
      "Epoch 82/100\n"
     ]
    },
    {
     "name": "stdout",
     "output_type": "stream",
     "text": [
      "24/24 [==============================] - 0s 13ms/step - loss: 0.6925 - val_loss: 0.6925\n",
      "Epoch 83/100\n",
      "24/24 [==============================] - 0s 17ms/step - loss: 0.6925 - val_loss: 0.6925\n",
      "Epoch 84/100\n",
      "24/24 [==============================] - 0s 15ms/step - loss: 0.6925 - val_loss: 0.6924\n",
      "Epoch 85/100\n",
      "24/24 [==============================] - 0s 17ms/step - loss: 0.6925 - val_loss: 0.6924\n",
      "Epoch 86/100\n",
      "24/24 [==============================] - 0s 10ms/step - loss: 0.6925 - val_loss: 0.6924\n",
      "Epoch 87/100\n",
      "24/24 [==============================] - 0s 12ms/step - loss: 0.6924 - val_loss: 0.6924\n",
      "Epoch 88/100\n",
      "24/24 [==============================] - 0s 15ms/step - loss: 0.6924 - val_loss: 0.6924\n",
      "Epoch 89/100\n",
      "24/24 [==============================] - 0s 12ms/step - loss: 0.6924 - val_loss: 0.6924\n",
      "Epoch 90/100\n",
      "24/24 [==============================] - 0s 16ms/step - loss: 0.6924 - val_loss: 0.6924\n",
      "Epoch 91/100\n",
      "24/24 [==============================] - 0s 17ms/step - loss: 0.6924 - val_loss: 0.6924\n",
      "Epoch 92/100\n",
      "24/24 [==============================] - 0s 14ms/step - loss: 0.6924 - val_loss: 0.6924\n",
      "Epoch 93/100\n",
      "24/24 [==============================] - 0s 17ms/step - loss: 0.6924 - val_loss: 0.6924\n",
      "Epoch 94/100\n",
      "24/24 [==============================] - 0s 13ms/step - loss: 0.6924 - val_loss: 0.6924\n",
      "Epoch 95/100\n",
      "24/24 [==============================] - 0s 16ms/step - loss: 0.6924 - val_loss: 0.6924\n",
      "Epoch 96/100\n",
      "24/24 [==============================] - 0s 12ms/step - loss: 0.6924 - val_loss: 0.6924\n",
      "Epoch 97/100\n",
      "24/24 [==============================] - 0s 17ms/step - loss: 0.6924 - val_loss: 0.6924\n",
      "Epoch 98/100\n",
      "24/24 [==============================] - 0s 12ms/step - loss: 0.6924 - val_loss: 0.6923\n",
      "Epoch 99/100\n",
      "24/24 [==============================] - 0s 18ms/step - loss: 0.6924 - val_loss: 0.6923\n",
      "Epoch 100/100\n",
      "24/24 [==============================] - 0s 15ms/step - loss: 0.6924 - val_loss: 0.6923\n"
     ]
    },
    {
     "data": {
      "text/plain": [
       "<tensorflow.python.keras.callbacks.History at 0x2907433a308>"
      ]
     },
     "execution_count": 23,
     "metadata": {},
     "output_type": "execute_result"
    }
   ],
   "source": [
    "input_img = Input(shape=(784,))\n",
    "\n",
    "encoded = Dense(128, activation='relu')(input_img)\n",
    "encoded = Dense(64, activation='relu')(encoded)\n",
    "encoded = Dense(32, activation='relu')(encoded)\n",
    "\n",
    "decoded = Dense(64, activation='relu')(encoded)\n",
    "decoded = Dense(128, activation='relu')(decoded)\n",
    "decoded = Dense(784, activation='sigmoid')(decoded)\n",
    "\n",
    "autoencoder = Model(input_img, decoded)\n",
    "\n",
    "encoder = Model(input_img, encoded)\n",
    "\n",
    "autoencoder.compile(optimizer='adadelta', loss='binary_crossentropy')\n",
    "\n",
    "autoencoder.fit(x_train_scaled, x_train_scaled,\n",
    "                epochs=100,\n",
    "                batch_size=256,\n",
    "                shuffle=True,\n",
    "                validation_data=(x_test_scaled, x_test_scaled))"
   ]
  },
  {
   "cell_type": "code",
   "execution_count": 31,
   "metadata": {},
   "outputs": [],
   "source": [
    "encoded_input = Input(shape=(encoding_dim,))\n",
    "decoder_layer = autoencoder.layers[4](encoded_input)\n",
    "decoder_layer = autoencoder.layers[5](decoder_layer)\n",
    "decoder_layer = autoencoder.layers[6](decoder_layer)\n",
    "decoder = Model(encoded_input, decoder_layer)"
   ]
  },
  {
   "cell_type": "code",
   "execution_count": 32,
   "metadata": {},
   "outputs": [],
   "source": [
    "encoded_train = encoder.predict(x_train_scaled)\n",
    "encoded_test = encoder.predict(x_test_scaled)\n",
    "decoded_test = decoder.predict(encoded_test)"
   ]
  },
  {
   "cell_type": "code",
   "execution_count": 25,
   "metadata": {},
   "outputs": [
    {
     "name": "stdout",
     "output_type": "stream",
     "text": [
      "Epoch 1/30\n",
      "1500/1500 - 5s - loss: 1.5249 - val_loss: 1.4536\n",
      "Epoch 2/30\n",
      "1500/1500 - 4s - loss: 1.0815 - val_loss: 1.3718\n",
      "Epoch 3/30\n",
      "1500/1500 - 4s - loss: 0.9530 - val_loss: 1.2452\n",
      "Epoch 4/30\n",
      "1500/1500 - 5s - loss: 0.8528 - val_loss: 1.2284\n",
      "Epoch 5/30\n",
      "1500/1500 - 5s - loss: 0.7736 - val_loss: 1.1969\n",
      "Epoch 6/30\n",
      "1500/1500 - 5s - loss: 0.6894 - val_loss: 1.2281\n",
      "Epoch 7/30\n",
      "1500/1500 - 5s - loss: 0.6206 - val_loss: 1.2750\n",
      "Epoch 8/30\n",
      "1500/1500 - 5s - loss: 0.5539 - val_loss: 1.2856\n",
      "Epoch 9/30\n",
      "1500/1500 - 5s - loss: 0.4888 - val_loss: 1.2558\n",
      "Epoch 10/30\n",
      "1500/1500 - 5s - loss: 0.4274 - val_loss: 1.3249\n",
      "Epoch 11/30\n",
      "1500/1500 - 5s - loss: 0.3692 - val_loss: 1.4407\n",
      "Epoch 12/30\n",
      "1500/1500 - 5s - loss: 0.3193 - val_loss: 1.4921\n",
      "Epoch 13/30\n",
      "1500/1500 - 6s - loss: 0.2795 - val_loss: 1.5249\n",
      "Epoch 14/30\n",
      "1500/1500 - 5s - loss: 0.2382 - val_loss: 1.5815\n",
      "Epoch 15/30\n",
      "1500/1500 - 5s - loss: 0.1935 - val_loss: 1.5531\n",
      "Epoch 16/30\n",
      "1500/1500 - 4s - loss: 0.1679 - val_loss: 1.6075\n",
      "Epoch 17/30\n",
      "1500/1500 - 4s - loss: 0.1432 - val_loss: 1.7507\n",
      "Epoch 18/30\n",
      "1500/1500 - 4s - loss: 0.1213 - val_loss: 1.8962\n",
      "Epoch 19/30\n",
      "1500/1500 - 4s - loss: 0.1023 - val_loss: 1.9066\n",
      "Epoch 20/30\n",
      "1500/1500 - 4s - loss: 0.0933 - val_loss: 1.9227\n",
      "Epoch 21/30\n",
      "1500/1500 - 4s - loss: 0.0802 - val_loss: 1.9515\n",
      "Epoch 22/30\n",
      "1500/1500 - 4s - loss: 0.0808 - val_loss: 1.9964\n",
      "Epoch 23/30\n",
      "1500/1500 - 5s - loss: 0.0702 - val_loss: 2.0864\n",
      "Epoch 24/30\n",
      "1500/1500 - 5s - loss: 0.0452 - val_loss: 2.1051\n",
      "Epoch 25/30\n",
      "1500/1500 - 4s - loss: 0.0529 - val_loss: 2.5654\n",
      "Epoch 26/30\n",
      "1500/1500 - 5s - loss: 0.0595 - val_loss: 2.2130\n",
      "Epoch 27/30\n",
      "1500/1500 - 5s - loss: 0.0296 - val_loss: 2.2566\n",
      "Epoch 28/30\n",
      "1500/1500 - 4s - loss: 0.0665 - val_loss: 2.4977\n",
      "Epoch 29/30\n",
      "1500/1500 - 5s - loss: 0.0311 - val_loss: 2.3979\n",
      "Epoch 30/30\n",
      "1500/1500 - 4s - loss: 0.0345 - val_loss: 2.5050\n"
     ]
    },
    {
     "data": {
      "text/plain": [
       "<tensorflow.python.keras.callbacks.History at 0x29074a9edc8>"
      ]
     },
     "execution_count": 25,
     "metadata": {},
     "output_type": "execute_result"
    }
   ],
   "source": [
    "model.fit(encoded_train, y_train, batch_size=4, epochs=30, shuffle=True, verbose=2, validation_data=(encoded_test, y_test))"
   ]
  },
  {
   "cell_type": "code",
   "execution_count": 34,
   "metadata": {},
   "outputs": [
    {
     "data": {
      "image/png": "[encoded data removed]",
      "text/plain": [
       "<Figure size 1440x288 with 20 Axes>"
      ]
     },
     "metadata": {
      "needs_background": "light"
     },
     "output_type": "display_data"
    }
   ],
   "source": [
    "# use Matplotlib\n",
    "import matplotlib.pyplot as plt\n",
    "\n",
    "n = 10  # how many digits we will display\n",
    "plt.figure(figsize=(20, 4))\n",
    "for i in range(n):\n",
    "    # display original\n",
    "    ax = plt.subplot(2, n, i + 1)\n",
    "    plt.imshow(x_test_scaled[i].reshape(28, 28))\n",
    "    plt.gray()\n",
    "#    ax.get_xaxis().set_visible(False)\n",
    "#    ax.get_yaxis().set_visible(False)\n",
    "\n",
    "    # display reconstruction\n",
    "    ax = plt.subplot(2, n, i + 1 + n)\n",
    "    plt.imshow(decoded_test[i].reshape(28, 28))\n",
    "    plt.gray()\n",
    "#    ax.get_xaxis().set_visible(False)\n",
    "#    ax.get_yaxis().set_visible(False)\n",
    "plt.show()"
   ]
  },
  {
   "cell_type": "code",
   "execution_count": null,
   "metadata": {},
   "outputs": [],
   "source": []
  }
 ],
 "metadata": {
  "kernelspec": {
   "display_name": "Python 3",
   "language": "python",
   "name": "python3"
  },
  "language_info": {
   "codemirror_mode": {
    "name": "ipython",
    "version": 3
   },
   "file_extension": ".py",
   "mimetype": "text/x-python",
   "name": "python",
   "nbconvert_exporter": "python",
   "pygments_lexer": "ipython3",
   "version": "3.7.8"
  }
 },
 "nbformat": 4,
 "nbformat_minor": 2
}
